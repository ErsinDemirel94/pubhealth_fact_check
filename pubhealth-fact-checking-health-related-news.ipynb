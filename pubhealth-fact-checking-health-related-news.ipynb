{
 "cells": [
  {
   "cell_type": "markdown",
   "metadata": {
    "papermill": {
     "duration": 0.04905,
     "end_time": "2021-03-31T14:57:16.878734",
     "exception": false,
     "start_time": "2021-03-31T14:57:16.829684",
     "status": "completed"
    },
    "tags": []
   },
   "source": [
    "# Fact Checking Health News"
   ]
  },
  {
   "cell_type": "markdown",
   "metadata": {
    "papermill": {
     "duration": 0.046136,
     "end_time": "2021-03-31T14:57:16.972488",
     "exception": false,
     "start_time": "2021-03-31T14:57:16.926352",
     "status": "completed"
    },
    "tags": []
   },
   "source": [
    "For my project, I analyze and build classification models for health related news. The dataset contains 19664 health related news from various sources.  For each news, claims were extracted and labelled as true,false,mixture and unproven by professional fact checkers. The PUBHEALTH dataset has claim_id, claim,date_published, explanation, fact_checkers, main_text,sources, label, subjects columns. This dataset is unique as it contains information in the medical field. My aim is to build models to successfully classify claims as true or false, based on the given claims and main texts."
   ]
  },
  {
   "cell_type": "markdown",
   "metadata": {
    "papermill": {
     "duration": 0.046255,
     "end_time": "2021-03-31T14:57:17.066399",
     "exception": false,
     "start_time": "2021-03-31T14:57:17.020144",
     "status": "completed"
    },
    "tags": []
   },
   "source": [
    "### Import and Concat Seperate Files"
   ]
  },
  {
   "cell_type": "markdown",
   "metadata": {
    "papermill": {
     "duration": 0.045754,
     "end_time": "2021-03-31T14:57:17.158354",
     "exception": false,
     "start_time": "2021-03-31T14:57:17.112600",
     "status": "completed"
    },
    "tags": []
   },
   "source": [
    "For easiness in preprocessing steps and increase number of data, I concatenate two files. Then, I continue to analyze the dataset, and remove missing instances."
   ]
  },
  {
   "cell_type": "code",
   "execution_count": 1,
   "metadata": {
    "execution": {
     "iopub.execute_input": "2021-03-31T14:57:17.259168Z",
     "iopub.status.busy": "2021-03-31T14:57:17.258329Z",
     "iopub.status.idle": "2021-03-31T14:57:17.271469Z",
     "shell.execute_reply": "2021-03-31T14:57:17.272009Z"
    },
    "papermill": {
     "duration": 0.066895,
     "end_time": "2021-03-31T14:57:17.272341",
     "exception": false,
     "start_time": "2021-03-31T14:57:17.205446",
     "status": "completed"
    },
    "tags": []
   },
   "outputs": [
    {
     "name": "stdout",
     "output_type": "stream",
     "text": [
      "/kaggle/input/pubhealthdataset/test.tsv\n",
      "/kaggle/input/pubhealthdataset/train.tsv\n",
      "['pubhealthdataset']\n"
     ]
    }
   ],
   "source": [
    "import os\n",
    "for dirname, _, filenames in os.walk('/kaggle/input'):\n",
    "    for filename in filenames:\n",
    "        print(os.path.join(dirname, filename))\n",
    "        \n",
    "print(os.listdir('/kaggle/input'))"
   ]
  },
  {
   "cell_type": "code",
   "execution_count": 2,
   "metadata": {
    "execution": {
     "iopub.execute_input": "2021-03-31T14:57:17.372249Z",
     "iopub.status.busy": "2021-03-31T14:57:17.371324Z",
     "iopub.status.idle": "2021-03-31T14:57:17.375727Z",
     "shell.execute_reply": "2021-03-31T14:57:17.376243Z"
    },
    "papermill": {
     "duration": 0.055961,
     "end_time": "2021-03-31T14:57:17.376461",
     "exception": false,
     "start_time": "2021-03-31T14:57:17.320500",
     "status": "completed"
    },
    "tags": []
   },
   "outputs": [],
   "source": [
    "import pandas as pd"
   ]
  },
  {
   "cell_type": "code",
   "execution_count": 3,
   "metadata": {
    "execution": {
     "iopub.execute_input": "2021-03-31T14:57:17.480331Z",
     "iopub.status.busy": "2021-03-31T14:57:17.479542Z",
     "iopub.status.idle": "2021-03-31T14:57:19.288766Z",
     "shell.execute_reply": "2021-03-31T14:57:19.289340Z"
    },
    "papermill": {
     "duration": 1.861057,
     "end_time": "2021-03-31T14:57:19.289569",
     "exception": false,
     "start_time": "2021-03-31T14:57:17.428512",
     "status": "completed"
    },
    "tags": []
   },
   "outputs": [],
   "source": [
    "df1 = pd.read_csv(\"/kaggle/input/pubhealthdataset/train.tsv\",sep= \"\\t\" )\n",
    "df2 = pd.read_csv(\"/kaggle/input/pubhealthdataset/test.tsv\",sep= \"\\t\" )"
   ]
  },
  {
   "cell_type": "code",
   "execution_count": 4,
   "metadata": {
    "execution": {
     "iopub.execute_input": "2021-03-31T14:57:19.398000Z",
     "iopub.status.busy": "2021-03-31T14:57:19.396819Z",
     "iopub.status.idle": "2021-03-31T14:57:19.421553Z",
     "shell.execute_reply": "2021-03-31T14:57:19.422316Z"
    },
    "papermill": {
     "duration": 0.082207,
     "end_time": "2021-03-31T14:57:19.422550",
     "exception": false,
     "start_time": "2021-03-31T14:57:19.340343",
     "status": "completed"
    },
    "tags": []
   },
   "outputs": [],
   "source": [
    "frames = [df1, df2] \n",
    "  \n",
    "result = pd.concat(frames) "
   ]
  },
  {
   "cell_type": "code",
   "execution_count": 5,
   "metadata": {
    "execution": {
     "iopub.execute_input": "2021-03-31T14:57:19.525941Z",
     "iopub.status.busy": "2021-03-31T14:57:19.525129Z",
     "iopub.status.idle": "2021-03-31T14:57:19.533843Z",
     "shell.execute_reply": "2021-03-31T14:57:19.534370Z"
    },
    "papermill": {
     "duration": 0.061308,
     "end_time": "2021-03-31T14:57:19.534546",
     "exception": false,
     "start_time": "2021-03-31T14:57:19.473238",
     "status": "completed"
    },
    "tags": []
   },
   "outputs": [
    {
     "data": {
      "text/plain": [
       "(11067, 10)"
      ]
     },
     "execution_count": 5,
     "metadata": {},
     "output_type": "execute_result"
    }
   ],
   "source": [
    "result.shape"
   ]
  },
  {
   "cell_type": "code",
   "execution_count": 6,
   "metadata": {
    "execution": {
     "iopub.execute_input": "2021-03-31T14:57:19.639764Z",
     "iopub.status.busy": "2021-03-31T14:57:19.638711Z",
     "iopub.status.idle": "2021-03-31T14:57:19.660903Z",
     "shell.execute_reply": "2021-03-31T14:57:19.661459Z"
    },
    "papermill": {
     "duration": 0.07859,
     "end_time": "2021-03-31T14:57:19.661632",
     "exception": false,
     "start_time": "2021-03-31T14:57:19.583042",
     "status": "completed"
    },
    "tags": []
   },
   "outputs": [
    {
     "data": {
      "text/html": [
       "<div>\n",
       "<style scoped>\n",
       "    .dataframe tbody tr th:only-of-type {\n",
       "        vertical-align: middle;\n",
       "    }\n",
       "\n",
       "    .dataframe tbody tr th {\n",
       "        vertical-align: top;\n",
       "    }\n",
       "\n",
       "    .dataframe thead th {\n",
       "        text-align: right;\n",
       "    }\n",
       "</style>\n",
       "<table border=\"1\" class=\"dataframe\">\n",
       "  <thead>\n",
       "    <tr style=\"text-align: right;\">\n",
       "      <th></th>\n",
       "      <th>claim_id</th>\n",
       "      <th>claim</th>\n",
       "      <th>date_published</th>\n",
       "      <th>explanation</th>\n",
       "      <th>fact_checkers</th>\n",
       "      <th>main_text</th>\n",
       "      <th>sources</th>\n",
       "      <th>label</th>\n",
       "      <th>subjects</th>\n",
       "      <th>Unnamed: 0</th>\n",
       "    </tr>\n",
       "  </thead>\n",
       "  <tbody>\n",
       "    <tr>\n",
       "      <th>0</th>\n",
       "      <td>15661</td>\n",
       "      <td>\"The money the Clinton Foundation took from fr...</td>\n",
       "      <td>April 26, 2015</td>\n",
       "      <td>\"Gingrich said the Clinton Foundation \"\"took m...</td>\n",
       "      <td>Katie Sanders</td>\n",
       "      <td>\"Hillary Clinton is in the political crosshair...</td>\n",
       "      <td>https://www.wsj.com/articles/clinton-foundatio...</td>\n",
       "      <td>false</td>\n",
       "      <td>Foreign Policy, PunditFact, Newt Gingrich,</td>\n",
       "      <td>NaN</td>\n",
       "    </tr>\n",
       "    <tr>\n",
       "      <th>1</th>\n",
       "      <td>9893</td>\n",
       "      <td>Annual Mammograms May Have More False-Positives</td>\n",
       "      <td>October 18, 2011</td>\n",
       "      <td>This article reports on the results of a study...</td>\n",
       "      <td></td>\n",
       "      <td>While the financial costs of screening mammogr...</td>\n",
       "      <td></td>\n",
       "      <td>mixture</td>\n",
       "      <td>Screening,WebMD,women's health</td>\n",
       "      <td>NaN</td>\n",
       "    </tr>\n",
       "    <tr>\n",
       "      <th>2</th>\n",
       "      <td>11358</td>\n",
       "      <td>SBRT Offers Prostate Cancer Patients High Canc...</td>\n",
       "      <td>September 28, 2016</td>\n",
       "      <td>This news release describes five-year outcomes...</td>\n",
       "      <td>Mary Chris Jaklevic,Steven J. Atlas, MD, MPH,K...</td>\n",
       "      <td>The news release quotes lead researcher Robert...</td>\n",
       "      <td>https://www.healthnewsreview.org/wp-content/up...</td>\n",
       "      <td>mixture</td>\n",
       "      <td>Association/Society news release,Cancer</td>\n",
       "      <td>NaN</td>\n",
       "    </tr>\n",
       "    <tr>\n",
       "      <th>3</th>\n",
       "      <td>10166</td>\n",
       "      <td>Study: Vaccine for Breast, Ovarian Cancer Has ...</td>\n",
       "      <td>November 8, 2011</td>\n",
       "      <td>While the story does many things well, the ove...</td>\n",
       "      <td></td>\n",
       "      <td>The story does discuss costs, but the framing ...</td>\n",
       "      <td>http://clinicaltrials.gov/ct2/results?term=can...</td>\n",
       "      <td>true</td>\n",
       "      <td>Cancer,WebMD,women's health</td>\n",
       "      <td>NaN</td>\n",
       "    </tr>\n",
       "    <tr>\n",
       "      <th>4</th>\n",
       "      <td>11276</td>\n",
       "      <td>Some appendicitis cases may not require ’emerg...</td>\n",
       "      <td>September 20, 2010</td>\n",
       "      <td>We really don’t understand why only a handful ...</td>\n",
       "      <td></td>\n",
       "      <td>\"Although the story didn’t cite the cost of ap...</td>\n",
       "      <td></td>\n",
       "      <td>true</td>\n",
       "      <td></td>\n",
       "      <td>NaN</td>\n",
       "    </tr>\n",
       "  </tbody>\n",
       "</table>\n",
       "</div>"
      ],
      "text/plain": [
       "  claim_id                                              claim  \\\n",
       "0    15661  \"The money the Clinton Foundation took from fr...   \n",
       "1     9893    Annual Mammograms May Have More False-Positives   \n",
       "2    11358  SBRT Offers Prostate Cancer Patients High Canc...   \n",
       "3    10166  Study: Vaccine for Breast, Ovarian Cancer Has ...   \n",
       "4    11276  Some appendicitis cases may not require ’emerg...   \n",
       "\n",
       "       date_published                                        explanation  \\\n",
       "0      April 26, 2015  \"Gingrich said the Clinton Foundation \"\"took m...   \n",
       "1    October 18, 2011  This article reports on the results of a study...   \n",
       "2  September 28, 2016  This news release describes five-year outcomes...   \n",
       "3    November 8, 2011  While the story does many things well, the ove...   \n",
       "4  September 20, 2010  We really don’t understand why only a handful ...   \n",
       "\n",
       "                                       fact_checkers  \\\n",
       "0                                      Katie Sanders   \n",
       "1                                                      \n",
       "2  Mary Chris Jaklevic,Steven J. Atlas, MD, MPH,K...   \n",
       "3                                                      \n",
       "4                                                      \n",
       "\n",
       "                                           main_text  \\\n",
       "0  \"Hillary Clinton is in the political crosshair...   \n",
       "1  While the financial costs of screening mammogr...   \n",
       "2  The news release quotes lead researcher Robert...   \n",
       "3  The story does discuss costs, but the framing ...   \n",
       "4  \"Although the story didn’t cite the cost of ap...   \n",
       "\n",
       "                                             sources    label  \\\n",
       "0  https://www.wsj.com/articles/clinton-foundatio...    false   \n",
       "1                                                     mixture   \n",
       "2  https://www.healthnewsreview.org/wp-content/up...  mixture   \n",
       "3  http://clinicaltrials.gov/ct2/results?term=can...     true   \n",
       "4                                                        true   \n",
       "\n",
       "                                      subjects  Unnamed: 0  \n",
       "0  Foreign Policy, PunditFact, Newt Gingrich,          NaN  \n",
       "1               Screening,WebMD,women's health         NaN  \n",
       "2      Association/Society news release,Cancer         NaN  \n",
       "3                  Cancer,WebMD,women's health         NaN  \n",
       "4                                                      NaN  "
      ]
     },
     "execution_count": 6,
     "metadata": {},
     "output_type": "execute_result"
    }
   ],
   "source": [
    "result.head()"
   ]
  },
  {
   "cell_type": "code",
   "execution_count": 7,
   "metadata": {
    "execution": {
     "iopub.execute_input": "2021-03-31T14:57:19.779504Z",
     "iopub.status.busy": "2021-03-31T14:57:19.778427Z",
     "iopub.status.idle": "2021-03-31T14:57:19.792712Z",
     "shell.execute_reply": "2021-03-31T14:57:19.791696Z"
    },
    "papermill": {
     "duration": 0.081288,
     "end_time": "2021-03-31T14:57:19.792879",
     "exception": false,
     "start_time": "2021-03-31T14:57:19.711591",
     "status": "completed"
    },
    "scrolled": true,
    "tags": []
   },
   "outputs": [
    {
     "data": {
      "text/html": [
       "<div>\n",
       "<style scoped>\n",
       "    .dataframe tbody tr th:only-of-type {\n",
       "        vertical-align: middle;\n",
       "    }\n",
       "\n",
       "    .dataframe tbody tr th {\n",
       "        vertical-align: top;\n",
       "    }\n",
       "\n",
       "    .dataframe thead th {\n",
       "        text-align: right;\n",
       "    }\n",
       "</style>\n",
       "<table border=\"1\" class=\"dataframe\">\n",
       "  <thead>\n",
       "    <tr style=\"text-align: right;\">\n",
       "      <th></th>\n",
       "      <th>Unnamed: 0</th>\n",
       "    </tr>\n",
       "  </thead>\n",
       "  <tbody>\n",
       "    <tr>\n",
       "      <th>count</th>\n",
       "      <td>1235.0000</td>\n",
       "    </tr>\n",
       "    <tr>\n",
       "      <th>mean</th>\n",
       "      <td>617.0000</td>\n",
       "    </tr>\n",
       "    <tr>\n",
       "      <th>std</th>\n",
       "      <td>356.6581</td>\n",
       "    </tr>\n",
       "    <tr>\n",
       "      <th>min</th>\n",
       "      <td>0.0000</td>\n",
       "    </tr>\n",
       "    <tr>\n",
       "      <th>25%</th>\n",
       "      <td>308.5000</td>\n",
       "    </tr>\n",
       "    <tr>\n",
       "      <th>50%</th>\n",
       "      <td>617.0000</td>\n",
       "    </tr>\n",
       "    <tr>\n",
       "      <th>75%</th>\n",
       "      <td>925.5000</td>\n",
       "    </tr>\n",
       "    <tr>\n",
       "      <th>max</th>\n",
       "      <td>1234.0000</td>\n",
       "    </tr>\n",
       "  </tbody>\n",
       "</table>\n",
       "</div>"
      ],
      "text/plain": [
       "       Unnamed: 0\n",
       "count   1235.0000\n",
       "mean     617.0000\n",
       "std      356.6581\n",
       "min        0.0000\n",
       "25%      308.5000\n",
       "50%      617.0000\n",
       "75%      925.5000\n",
       "max     1234.0000"
      ]
     },
     "execution_count": 7,
     "metadata": {},
     "output_type": "execute_result"
    }
   ],
   "source": [
    "result.describe()"
   ]
  },
  {
   "cell_type": "code",
   "execution_count": 8,
   "metadata": {
    "execution": {
     "iopub.execute_input": "2021-03-31T14:57:19.911224Z",
     "iopub.status.busy": "2021-03-31T14:57:19.910206Z",
     "iopub.status.idle": "2021-03-31T14:57:19.919592Z",
     "shell.execute_reply": "2021-03-31T14:57:19.918795Z"
    },
    "papermill": {
     "duration": 0.076917,
     "end_time": "2021-03-31T14:57:19.919744",
     "exception": false,
     "start_time": "2021-03-31T14:57:19.842827",
     "status": "completed"
    },
    "tags": []
   },
   "outputs": [
    {
     "data": {
      "text/plain": [
       "claim_id             0\n",
       "claim                8\n",
       "date_published    2163\n",
       "explanation          8\n",
       "fact_checkers       11\n",
       "main_text           26\n",
       "sources             28\n",
       "label               29\n",
       "subjects            30\n",
       "Unnamed: 0        9832\n",
       "dtype: int64"
      ]
     },
     "execution_count": 8,
     "metadata": {},
     "output_type": "execute_result"
    }
   ],
   "source": [
    "result.isna().sum()"
   ]
  },
  {
   "cell_type": "code",
   "execution_count": 9,
   "metadata": {
    "execution": {
     "iopub.execute_input": "2021-03-31T14:57:20.041904Z",
     "iopub.status.busy": "2021-03-31T14:57:20.040866Z",
     "iopub.status.idle": "2021-03-31T14:57:20.125338Z",
     "shell.execute_reply": "2021-03-31T14:57:20.124512Z"
    },
    "papermill": {
     "duration": 0.153891,
     "end_time": "2021-03-31T14:57:20.125505",
     "exception": false,
     "start_time": "2021-03-31T14:57:19.971614",
     "status": "completed"
    },
    "tags": []
   },
   "outputs": [
    {
     "ename": "KeyError",
     "evalue": "'[1 2 12 ... 1219 1224 1225] not found in axis'",
     "output_type": "error",
     "traceback": [
      "\u001b[0;31m---------------------------------------------------------------------------\u001b[0m",
      "\u001b[0;31mKeyError\u001b[0m                                  Traceback (most recent call last)",
      "\u001b[0;32m<ipython-input-9-d68ff3a31656>\u001b[0m in \u001b[0;36m<module>\u001b[0;34m\u001b[0m\n\u001b[1;32m      5\u001b[0m \u001b[0mresult\u001b[0m\u001b[0;34m.\u001b[0m\u001b[0mdrop\u001b[0m\u001b[0;34m(\u001b[0m\u001b[0mindexNames\u001b[0m \u001b[0;34m,\u001b[0m \u001b[0minplace\u001b[0m\u001b[0;34m=\u001b[0m\u001b[0;32mTrue\u001b[0m\u001b[0;34m)\u001b[0m\u001b[0;34m\u001b[0m\u001b[0;34m\u001b[0m\u001b[0m\n\u001b[1;32m      6\u001b[0m \u001b[0mresult\u001b[0m\u001b[0;34m.\u001b[0m\u001b[0mdrop\u001b[0m\u001b[0;34m(\u001b[0m\u001b[0mindexNames2\u001b[0m \u001b[0;34m,\u001b[0m \u001b[0minplace\u001b[0m\u001b[0;34m=\u001b[0m\u001b[0;32mTrue\u001b[0m\u001b[0;34m)\u001b[0m\u001b[0;34m\u001b[0m\u001b[0;34m\u001b[0m\u001b[0m\n\u001b[0;32m----> 7\u001b[0;31m \u001b[0mresult\u001b[0m\u001b[0;34m.\u001b[0m\u001b[0mdrop\u001b[0m\u001b[0;34m(\u001b[0m\u001b[0mindexNames3\u001b[0m \u001b[0;34m,\u001b[0m \u001b[0minplace\u001b[0m\u001b[0;34m=\u001b[0m\u001b[0;32mTrue\u001b[0m\u001b[0;34m)\u001b[0m\u001b[0;34m\u001b[0m\u001b[0;34m\u001b[0m\u001b[0m\n\u001b[0m\u001b[1;32m      8\u001b[0m \u001b[0;34m\u001b[0m\u001b[0m\n",
      "\u001b[0;32m/opt/conda/lib/python3.7/site-packages/pandas/core/frame.py\u001b[0m in \u001b[0;36mdrop\u001b[0;34m(self, labels, axis, index, columns, level, inplace, errors)\u001b[0m\n\u001b[1;32m   4310\u001b[0m             \u001b[0mlevel\u001b[0m\u001b[0;34m=\u001b[0m\u001b[0mlevel\u001b[0m\u001b[0;34m,\u001b[0m\u001b[0;34m\u001b[0m\u001b[0;34m\u001b[0m\u001b[0m\n\u001b[1;32m   4311\u001b[0m             \u001b[0minplace\u001b[0m\u001b[0;34m=\u001b[0m\u001b[0minplace\u001b[0m\u001b[0;34m,\u001b[0m\u001b[0;34m\u001b[0m\u001b[0;34m\u001b[0m\u001b[0m\n\u001b[0;32m-> 4312\u001b[0;31m             \u001b[0merrors\u001b[0m\u001b[0;34m=\u001b[0m\u001b[0merrors\u001b[0m\u001b[0;34m,\u001b[0m\u001b[0;34m\u001b[0m\u001b[0;34m\u001b[0m\u001b[0m\n\u001b[0m\u001b[1;32m   4313\u001b[0m         )\n\u001b[1;32m   4314\u001b[0m \u001b[0;34m\u001b[0m\u001b[0m\n",
      "\u001b[0;32m/opt/conda/lib/python3.7/site-packages/pandas/core/generic.py\u001b[0m in \u001b[0;36mdrop\u001b[0;34m(self, labels, axis, index, columns, level, inplace, errors)\u001b[0m\n\u001b[1;32m   4148\u001b[0m         \u001b[0;32mfor\u001b[0m \u001b[0maxis\u001b[0m\u001b[0;34m,\u001b[0m \u001b[0mlabels\u001b[0m \u001b[0;32min\u001b[0m \u001b[0maxes\u001b[0m\u001b[0;34m.\u001b[0m\u001b[0mitems\u001b[0m\u001b[0;34m(\u001b[0m\u001b[0;34m)\u001b[0m\u001b[0;34m:\u001b[0m\u001b[0;34m\u001b[0m\u001b[0;34m\u001b[0m\u001b[0m\n\u001b[1;32m   4149\u001b[0m             \u001b[0;32mif\u001b[0m \u001b[0mlabels\u001b[0m \u001b[0;32mis\u001b[0m \u001b[0;32mnot\u001b[0m \u001b[0;32mNone\u001b[0m\u001b[0;34m:\u001b[0m\u001b[0;34m\u001b[0m\u001b[0;34m\u001b[0m\u001b[0m\n\u001b[0;32m-> 4150\u001b[0;31m                 \u001b[0mobj\u001b[0m \u001b[0;34m=\u001b[0m \u001b[0mobj\u001b[0m\u001b[0;34m.\u001b[0m\u001b[0m_drop_axis\u001b[0m\u001b[0;34m(\u001b[0m\u001b[0mlabels\u001b[0m\u001b[0;34m,\u001b[0m \u001b[0maxis\u001b[0m\u001b[0;34m,\u001b[0m \u001b[0mlevel\u001b[0m\u001b[0;34m=\u001b[0m\u001b[0mlevel\u001b[0m\u001b[0;34m,\u001b[0m \u001b[0merrors\u001b[0m\u001b[0;34m=\u001b[0m\u001b[0merrors\u001b[0m\u001b[0;34m)\u001b[0m\u001b[0;34m\u001b[0m\u001b[0;34m\u001b[0m\u001b[0m\n\u001b[0m\u001b[1;32m   4151\u001b[0m \u001b[0;34m\u001b[0m\u001b[0m\n\u001b[1;32m   4152\u001b[0m         \u001b[0;32mif\u001b[0m \u001b[0minplace\u001b[0m\u001b[0;34m:\u001b[0m\u001b[0;34m\u001b[0m\u001b[0;34m\u001b[0m\u001b[0m\n",
      "\u001b[0;32m/opt/conda/lib/python3.7/site-packages/pandas/core/generic.py\u001b[0m in \u001b[0;36m_drop_axis\u001b[0;34m(self, labels, axis, level, errors)\u001b[0m\n\u001b[1;32m   4202\u001b[0m                 \u001b[0mlabels_missing\u001b[0m \u001b[0;34m=\u001b[0m \u001b[0;34m(\u001b[0m\u001b[0maxis\u001b[0m\u001b[0;34m.\u001b[0m\u001b[0mget_indexer_for\u001b[0m\u001b[0;34m(\u001b[0m\u001b[0mlabels\u001b[0m\u001b[0;34m)\u001b[0m \u001b[0;34m==\u001b[0m \u001b[0;34m-\u001b[0m\u001b[0;36m1\u001b[0m\u001b[0;34m)\u001b[0m\u001b[0;34m.\u001b[0m\u001b[0many\u001b[0m\u001b[0;34m(\u001b[0m\u001b[0;34m)\u001b[0m\u001b[0;34m\u001b[0m\u001b[0;34m\u001b[0m\u001b[0m\n\u001b[1;32m   4203\u001b[0m                 \u001b[0;32mif\u001b[0m \u001b[0merrors\u001b[0m \u001b[0;34m==\u001b[0m \u001b[0;34m\"raise\"\u001b[0m \u001b[0;32mand\u001b[0m \u001b[0mlabels_missing\u001b[0m\u001b[0;34m:\u001b[0m\u001b[0;34m\u001b[0m\u001b[0;34m\u001b[0m\u001b[0m\n\u001b[0;32m-> 4204\u001b[0;31m                     \u001b[0;32mraise\u001b[0m \u001b[0mKeyError\u001b[0m\u001b[0;34m(\u001b[0m\u001b[0;34mf\"{labels} not found in axis\"\u001b[0m\u001b[0;34m)\u001b[0m\u001b[0;34m\u001b[0m\u001b[0;34m\u001b[0m\u001b[0m\n\u001b[0m\u001b[1;32m   4205\u001b[0m \u001b[0;34m\u001b[0m\u001b[0m\n\u001b[1;32m   4206\u001b[0m             \u001b[0mslicer\u001b[0m \u001b[0;34m=\u001b[0m \u001b[0;34m[\u001b[0m\u001b[0mslice\u001b[0m\u001b[0;34m(\u001b[0m\u001b[0;32mNone\u001b[0m\u001b[0;34m)\u001b[0m\u001b[0;34m]\u001b[0m \u001b[0;34m*\u001b[0m \u001b[0mself\u001b[0m\u001b[0;34m.\u001b[0m\u001b[0mndim\u001b[0m\u001b[0;34m\u001b[0m\u001b[0;34m\u001b[0m\u001b[0m\n",
      "\u001b[0;31mKeyError\u001b[0m: '[1 2 12 ... 1219 1224 1225] not found in axis'"
     ]
    }
   ],
   "source": [
    "indexNames = result[(result[\"label\"] == 'unproven')].index \n",
    "indexNames2 = result[(result[\"label\"] == \"snopes\")].index \n",
    "indexNames3 = result[(result[\"label\"] == \"mixture\")].index\n",
    "\n",
    "result.drop(indexNames , inplace=True)\n",
    "result.drop(indexNames2 , inplace=True)\n",
    "result.drop(indexNames3 , inplace=True)\n",
    "\n"
   ]
  },
  {
   "cell_type": "code",
   "execution_count": 10,
   "metadata": {
    "execution": {
     "iopub.execute_input": "2021-03-31T14:57:20.240618Z",
     "iopub.status.busy": "2021-03-31T14:57:20.239727Z",
     "iopub.status.idle": "2021-03-31T14:57:20.448185Z",
     "shell.execute_reply": "2021-03-31T14:57:20.448665Z"
    },
    "papermill": {
     "duration": 0.271159,
     "end_time": "2021-03-31T14:57:20.448848",
     "exception": false,
     "start_time": "2021-03-31T14:57:20.177689",
     "status": "completed"
    },
    "tags": []
   },
   "outputs": [
    {
     "data": {
      "text/plain": [
       "<AxesSubplot:>"
      ]
     },
     "execution_count": 10,
     "metadata": {},
     "output_type": "execute_result"
    },
    {
     "data": {
      "image/png": "[encoded data removed]",
      "text/plain": [
       "<Figure size 432x288 with 1 Axes>"
      ]
     },
     "metadata": {
      "needs_background": "light"
     },
     "output_type": "display_data"
    }
   ],
   "source": [
    "result[\"label\"].hist()"
   ]
  },
  {
   "cell_type": "markdown",
   "metadata": {
    "papermill": {
     "duration": 0.05293,
     "end_time": "2021-03-31T14:57:20.559397",
     "exception": false,
     "start_time": "2021-03-31T14:57:20.506467",
     "status": "completed"
    },
    "tags": []
   },
   "source": [
    "All labels except false and true are dropped."
   ]
  },
  {
   "cell_type": "code",
   "execution_count": 11,
   "metadata": {
    "execution": {
     "iopub.execute_input": "2021-03-31T14:57:20.675804Z",
     "iopub.status.busy": "2021-03-31T14:57:20.674808Z",
     "iopub.status.idle": "2021-03-31T14:57:20.679962Z",
     "shell.execute_reply": "2021-03-31T14:57:20.680404Z"
    },
    "papermill": {
     "duration": 0.064265,
     "end_time": "2021-03-31T14:57:20.680578",
     "exception": false,
     "start_time": "2021-03-31T14:57:20.616313",
     "status": "completed"
    },
    "tags": []
   },
   "outputs": [
    {
     "data": {
      "text/plain": [
       "(10654, 10)"
      ]
     },
     "execution_count": 11,
     "metadata": {},
     "output_type": "execute_result"
    }
   ],
   "source": [
    "result.shape"
   ]
  },
  {
   "cell_type": "code",
   "execution_count": 12,
   "metadata": {
    "execution": {
     "iopub.execute_input": "2021-03-31T14:57:20.795559Z",
     "iopub.status.busy": "2021-03-31T14:57:20.794565Z",
     "iopub.status.idle": "2021-03-31T14:57:20.802240Z",
     "shell.execute_reply": "2021-03-31T14:57:20.802723Z"
    },
    "papermill": {
     "duration": 0.065793,
     "end_time": "2021-03-31T14:57:20.802905",
     "exception": false,
     "start_time": "2021-03-31T14:57:20.737112",
     "status": "completed"
    },
    "tags": []
   },
   "outputs": [],
   "source": [
    "dframe = result[[\"claim_id\",\"claim\",\"main_text\",\"label\"]].copy()"
   ]
  },
  {
   "cell_type": "code",
   "execution_count": 13,
   "metadata": {
    "execution": {
     "iopub.execute_input": "2021-03-31T14:57:20.927020Z",
     "iopub.status.busy": "2021-03-31T14:57:20.926234Z",
     "iopub.status.idle": "2021-03-31T14:57:20.930070Z",
     "shell.execute_reply": "2021-03-31T14:57:20.930585Z"
    },
    "papermill": {
     "duration": 0.073099,
     "end_time": "2021-03-31T14:57:20.930784",
     "exception": false,
     "start_time": "2021-03-31T14:57:20.857685",
     "status": "completed"
    },
    "tags": []
   },
   "outputs": [
    {
     "data": {
      "text/plain": [
       "claim_id      0\n",
       "claim         8\n",
       "main_text    26\n",
       "label        29\n",
       "dtype: int64"
      ]
     },
     "execution_count": 13,
     "metadata": {},
     "output_type": "execute_result"
    }
   ],
   "source": [
    "dframe.isna().sum()"
   ]
  },
  {
   "cell_type": "code",
   "execution_count": 14,
   "metadata": {
    "execution": {
     "iopub.execute_input": "2021-03-31T14:57:21.043304Z",
     "iopub.status.busy": "2021-03-31T14:57:21.042578Z",
     "iopub.status.idle": "2021-03-31T14:57:21.080731Z",
     "shell.execute_reply": "2021-03-31T14:57:21.080159Z"
    },
    "papermill": {
     "duration": 0.096195,
     "end_time": "2021-03-31T14:57:21.080897",
     "exception": false,
     "start_time": "2021-03-31T14:57:20.984702",
     "status": "completed"
    },
    "tags": []
   },
   "outputs": [],
   "source": [
    "dframe = dframe.dropna()"
   ]
  },
  {
   "cell_type": "code",
   "execution_count": 15,
   "metadata": {
    "execution": {
     "iopub.execute_input": "2021-03-31T14:57:21.202871Z",
     "iopub.status.busy": "2021-03-31T14:57:21.202151Z",
     "iopub.status.idle": "2021-03-31T14:57:21.205217Z",
     "shell.execute_reply": "2021-03-31T14:57:21.204567Z"
    },
    "papermill": {
     "duration": 0.067256,
     "end_time": "2021-03-31T14:57:21.205376",
     "exception": false,
     "start_time": "2021-03-31T14:57:21.138120",
     "status": "completed"
    },
    "tags": []
   },
   "outputs": [],
   "source": [
    "dframe['label'].replace(to_replace=['false','true'], value=[0, 1], inplace=True)"
   ]
  },
  {
   "cell_type": "code",
   "execution_count": 16,
   "metadata": {
    "execution": {
     "iopub.execute_input": "2021-03-31T14:57:21.326004Z",
     "iopub.status.busy": "2021-03-31T14:57:21.325292Z",
     "iopub.status.idle": "2021-03-31T14:57:21.335324Z",
     "shell.execute_reply": "2021-03-31T14:57:21.334315Z"
    },
    "papermill": {
     "duration": 0.07585,
     "end_time": "2021-03-31T14:57:21.335497",
     "exception": false,
     "start_time": "2021-03-31T14:57:21.259647",
     "status": "completed"
    },
    "tags": []
   },
   "outputs": [
    {
     "data": {
      "text/html": [
       "<div>\n",
       "<style scoped>\n",
       "    .dataframe tbody tr th:only-of-type {\n",
       "        vertical-align: middle;\n",
       "    }\n",
       "\n",
       "    .dataframe tbody tr th {\n",
       "        vertical-align: top;\n",
       "    }\n",
       "\n",
       "    .dataframe thead th {\n",
       "        text-align: right;\n",
       "    }\n",
       "</style>\n",
       "<table border=\"1\" class=\"dataframe\">\n",
       "  <thead>\n",
       "    <tr style=\"text-align: right;\">\n",
       "      <th></th>\n",
       "      <th>claim_id</th>\n",
       "      <th>claim</th>\n",
       "      <th>main_text</th>\n",
       "      <th>label</th>\n",
       "    </tr>\n",
       "  </thead>\n",
       "  <tbody>\n",
       "    <tr>\n",
       "      <th>1230</th>\n",
       "      <td>3295</td>\n",
       "      <td>Christmas miracle for Florida dog whose heart ...</td>\n",
       "      <td>The heart of Gerald Ford’s 1-year-old French b...</td>\n",
       "      <td>1</td>\n",
       "    </tr>\n",
       "    <tr>\n",
       "      <th>1231</th>\n",
       "      <td>6904</td>\n",
       "      <td>Another dolphin dies at Arizona aquatic facility.</td>\n",
       "      <td>A statement from Dolphinaris Arizona in Scotts...</td>\n",
       "      <td>1</td>\n",
       "    </tr>\n",
       "    <tr>\n",
       "      <th>1232</th>\n",
       "      <td>13874</td>\n",
       "      <td>What the facts say\" is ... \"the best scenario ...</td>\n",
       "      <td>Republican National Committee chairman Reince ...</td>\n",
       "      <td>0</td>\n",
       "    </tr>\n",
       "    <tr>\n",
       "      <th>1233</th>\n",
       "      <td>2847</td>\n",
       "      <td>FDA advisory panel rejects J&amp;J drug for acute ...</td>\n",
       "      <td>The panel voted 10 to 0, with one abstention, ...</td>\n",
       "      <td>1</td>\n",
       "    </tr>\n",
       "    <tr>\n",
       "      <th>1234</th>\n",
       "      <td>7394</td>\n",
       "      <td>Gene-editing Chinese scientist kept much of hi...</td>\n",
       "      <td>He Jiankui’s outsized aspirations began to tak...</td>\n",
       "      <td>1</td>\n",
       "    </tr>\n",
       "  </tbody>\n",
       "</table>\n",
       "</div>"
      ],
      "text/plain": [
       "     claim_id                                              claim  \\\n",
       "1230     3295  Christmas miracle for Florida dog whose heart ...   \n",
       "1231     6904  Another dolphin dies at Arizona aquatic facility.   \n",
       "1232    13874  What the facts say\" is ... \"the best scenario ...   \n",
       "1233     2847  FDA advisory panel rejects J&J drug for acute ...   \n",
       "1234     7394  Gene-editing Chinese scientist kept much of hi...   \n",
       "\n",
       "                                              main_text label  \n",
       "1230  The heart of Gerald Ford’s 1-year-old French b...     1  \n",
       "1231  A statement from Dolphinaris Arizona in Scotts...     1  \n",
       "1232  Republican National Committee chairman Reince ...     0  \n",
       "1233  The panel voted 10 to 0, with one abstention, ...     1  \n",
       "1234  He Jiankui’s outsized aspirations began to tak...     1  "
      ]
     },
     "execution_count": 16,
     "metadata": {},
     "output_type": "execute_result"
    }
   ],
   "source": [
    "dframe.tail()"
   ]
  },
  {
   "cell_type": "code",
   "execution_count": 17,
   "metadata": {
    "execution": {
     "iopub.execute_input": "2021-03-31T14:57:21.456110Z",
     "iopub.status.busy": "2021-03-31T14:57:21.455312Z",
     "iopub.status.idle": "2021-03-31T14:57:21.458268Z",
     "shell.execute_reply": "2021-03-31T14:57:21.458805Z"
    },
    "papermill": {
     "duration": 0.066223,
     "end_time": "2021-03-31T14:57:21.459004",
     "exception": false,
     "start_time": "2021-03-31T14:57:21.392781",
     "status": "completed"
    },
    "scrolled": false,
    "tags": []
   },
   "outputs": [],
   "source": [
    "dframe = dframe.reset_index(drop=True)"
   ]
  },
  {
   "cell_type": "code",
   "execution_count": 18,
   "metadata": {
    "execution": {
     "iopub.execute_input": "2021-03-31T14:57:21.581309Z",
     "iopub.status.busy": "2021-03-31T14:57:21.580508Z",
     "iopub.status.idle": "2021-03-31T14:57:21.584389Z",
     "shell.execute_reply": "2021-03-31T14:57:21.584889Z"
    },
    "papermill": {
     "duration": 0.067,
     "end_time": "2021-03-31T14:57:21.585081",
     "exception": false,
     "start_time": "2021-03-31T14:57:21.518081",
     "status": "completed"
    },
    "scrolled": true,
    "tags": []
   },
   "outputs": [
    {
     "data": {
      "text/plain": [
       "'Extinction Rebellion, which uses civil disobedience to highlight the risks posed by climate change and the accelerating loss of plant and animal species, is midway through a new two-week wave of actions in cities around the world. Activists thronged the financial heart of London on Monday, unfurling banners, addressing passersby by megaphone or blocking streets around locations including BlackRock, the Bank of England, Bank of China and Barclays. At BlackRock, volunteers glued themselves to the doors while others staged a mock dinner party with rolled-up banknotes on their plates. Police said they arrested more than 90 people. The arrestees included Rabbi Jeffrey Newman of the Finchley Reform Synagogue, who was arrested near the Bank of England praying, singing and wearing a prayer shawl for the first day of the Jewish festival Sukkot, Extinction Rebellion said. “The City of London is a preeminent nexus of power in the global system that is killing our world,” said Carolina Rosa, spokesperson for Extinction Rebellion. BlackRock declined to comment. Police later ordered a halt to all assembly linked to   Extinction Rebellion in London. At Trafalgar Square in the heart of the city, where demonstrators have pitched camp for the past week amid fountains at the base of Nelson’s Column, protesters began removing tents. Police made no immediate move to shut down another main protest camp in the district of Vauxhall. “Officers have begun the process of clearing Trafalgar Square and getting things back to normal,” said Deputy Assistant Commissioner Laurence Taylor. Extinction Rebellion said it had left Trafalgar Square but would continue actions in London and cities around the world. “The Climate and Ecological Emergency isn’t going away and we remain resolute in facing it. We urge the Government and the authorities to join us in doing the same,” the group said in a statement. “This is bigger than all of us.”   Extinction Rebellion wants to cause enough disruption to force governments to rapidly cut carbon emissions and reverse the collapse of ecosystems to avert the worst of the devastation scientists project if business as usual continues. Critics say the group is proposing what amounts to the overthrow of capitalism without any clear idea of what would follow, and that the world needs fossil fuels. Extinction Rebellion said that more than 1,400 people had been arrested in London since it launched its latest actions a week ago. A similar number has in total been arrested in 20 cities in countries including the Netherlands, Belgium, the United States, Australia, Canada and New Zealand. While activists have long targeted fossil fuel companies, a growing global climate protest movement is increasingly scrutinizing the role fund managers, banks and insurance companies play in enabling oil and gas extraction. Emily Grossman, a British science broadcaster who has a PhD in molecular biology, who joined the protest outside BlackRock, said that financing fossil fuel projects was undermining the goals of the 2015 Paris Agreement to limit global warming. “This is criminal damage that they are doing to our lives and to the lives of our children and it has to stop,” said Grossman, who was later led away by police. Major oil companies have approved $50 billion of projects since last year that run contrary to the goals of the Paris Agreement, according to an analysis published last month by financial think-tank Carbon Tracker. Fossil fuel companies say they need to invest in new projects to meet future demand for energy, particularly in fast-growing regions such as Asia. Climate protesters want to pressure index fund firms such as BlackRock because the sector, which now controls half the U.S. stock mutual fund market, has enormous power to influence companies in which they invest trillions of dollars. The leading U.S. index fund firms, BlackRock, Vanguard Group and State Street Corp, rarely use that clout, a Reuters analysis of their shareholder-voting records found this month.'"
      ]
     },
     "execution_count": 18,
     "metadata": {},
     "output_type": "execute_result"
    }
   ],
   "source": [
    "dframe.iloc[15,-2]"
   ]
  },
  {
   "cell_type": "markdown",
   "metadata": {
    "papermill": {
     "duration": 0.0537,
     "end_time": "2021-03-31T14:57:21.696355",
     "exception": false,
     "start_time": "2021-03-31T14:57:21.642655",
     "status": "completed"
    },
    "tags": []
   },
   "source": [
    "This is an example main text."
   ]
  },
  {
   "cell_type": "code",
   "execution_count": 19,
   "metadata": {
    "execution": {
     "iopub.execute_input": "2021-03-31T14:57:21.814141Z",
     "iopub.status.busy": "2021-03-31T14:57:21.813421Z",
     "iopub.status.idle": "2021-03-31T14:57:23.954674Z",
     "shell.execute_reply": "2021-03-31T14:57:23.954075Z"
    },
    "papermill": {
     "duration": 2.202426,
     "end_time": "2021-03-31T14:57:23.954816",
     "exception": false,
     "start_time": "2021-03-31T14:57:21.752390",
     "status": "completed"
    },
    "tags": []
   },
   "outputs": [],
   "source": [
    "dframe.to_csv(\"initial_file.csv\")"
   ]
  },
  {
   "cell_type": "markdown",
   "metadata": {
    "papermill": {
     "duration": 0.05438,
     "end_time": "2021-03-31T14:57:24.064504",
     "exception": false,
     "start_time": "2021-03-31T14:57:24.010124",
     "status": "completed"
    },
    "tags": []
   },
   "source": [
    "I keep claim_id, claim, main_text and label columns for my models. I removed missing instances, and transform labels to 0 and 1, to change the problem as binary classification. There are numerous different approaches, however, I prefer binary classification since it gave better results for my models."
   ]
  },
  {
   "cell_type": "markdown",
   "metadata": {
    "papermill": {
     "duration": 0.053485,
     "end_time": "2021-03-31T14:57:24.172987",
     "exception": false,
     "start_time": "2021-03-31T14:57:24.119502",
     "status": "completed"
    },
    "tags": []
   },
   "source": [
    "### Basic Data Cleaning "
   ]
  },
  {
   "cell_type": "markdown",
   "metadata": {
    "papermill": {
     "duration": 0.053617,
     "end_time": "2021-03-31T14:57:24.281707",
     "exception": false,
     "start_time": "2021-03-31T14:57:24.228090",
     "status": "completed"
    },
    "tags": []
   },
   "source": [
    "For the basic data cleaning step, I removed claims from different languages, lower all letters in sentences, and join unescape characters."
   ]
  },
  {
   "cell_type": "code",
   "execution_count": 20,
   "metadata": {
    "execution": {
     "iopub.execute_input": "2021-03-31T14:57:24.402609Z",
     "iopub.status.busy": "2021-03-31T14:57:24.401929Z",
     "iopub.status.idle": "2021-03-31T14:57:25.124009Z",
     "shell.execute_reply": "2021-03-31T14:57:25.123250Z"
    },
    "papermill": {
     "duration": 0.784721,
     "end_time": "2021-03-31T14:57:25.124163",
     "exception": false,
     "start_time": "2021-03-31T14:57:24.339442",
     "status": "completed"
    },
    "tags": []
   },
   "outputs": [],
   "source": [
    "df = pd.read_csv(\"initial_file.csv\")"
   ]
  },
  {
   "cell_type": "code",
   "execution_count": 21,
   "metadata": {
    "execution": {
     "iopub.execute_input": "2021-03-31T14:57:25.244797Z",
     "iopub.status.busy": "2021-03-31T14:57:25.244102Z",
     "iopub.status.idle": "2021-03-31T14:57:25.247203Z",
     "shell.execute_reply": "2021-03-31T14:57:25.247713Z"
    },
    "papermill": {
     "duration": 0.069705,
     "end_time": "2021-03-31T14:57:25.247881",
     "exception": false,
     "start_time": "2021-03-31T14:57:25.178176",
     "status": "completed"
    },
    "tags": []
   },
   "outputs": [
    {
     "data": {
      "text/plain": [
       "Unnamed: 0    0\n",
       "claim_id      0\n",
       "claim         0\n",
       "main_text     0\n",
       "label         0\n",
       "dtype: int64"
      ]
     },
     "execution_count": 21,
     "metadata": {},
     "output_type": "execute_result"
    }
   ],
   "source": [
    "df.isna().sum()"
   ]
  },
  {
   "cell_type": "code",
   "execution_count": 22,
   "metadata": {
    "execution": {
     "iopub.execute_input": "2021-03-31T14:57:25.362511Z",
     "iopub.status.busy": "2021-03-31T14:57:25.361720Z",
     "iopub.status.idle": "2021-03-31T14:57:25.366218Z",
     "shell.execute_reply": "2021-03-31T14:57:25.366903Z"
    },
    "papermill": {
     "duration": 0.064891,
     "end_time": "2021-03-31T14:57:25.367268",
     "exception": false,
     "start_time": "2021-03-31T14:57:25.302377",
     "status": "completed"
    },
    "tags": []
   },
   "outputs": [],
   "source": [
    "import html\n",
    "def simplify_text(text):\n",
    "    return html.unescape(\" \".join(text.split()))\n",
    "\n",
    "def lower_sentences(text):\n",
    "    return text.lower()"
   ]
  },
  {
   "cell_type": "code",
   "execution_count": 23,
   "metadata": {
    "execution": {
     "iopub.execute_input": "2021-03-31T14:57:25.481599Z",
     "iopub.status.busy": "2021-03-31T14:57:25.480955Z",
     "iopub.status.idle": "2021-03-31T14:57:25.518193Z",
     "shell.execute_reply": "2021-03-31T14:57:25.518691Z"
    },
    "papermill": {
     "duration": 0.096207,
     "end_time": "2021-03-31T14:57:25.519011",
     "exception": false,
     "start_time": "2021-03-31T14:57:25.422804",
     "status": "completed"
    },
    "tags": []
   },
   "outputs": [],
   "source": [
    "df[\"claim-p\"] = df[\"claim\"].map(lower_sentences)\n",
    "df[\"claim-p\"] = df[\"claim-p\"].map(simplify_text)"
   ]
  },
  {
   "cell_type": "code",
   "execution_count": 24,
   "metadata": {
    "execution": {
     "iopub.execute_input": "2021-03-31T14:57:25.635110Z",
     "iopub.status.busy": "2021-03-31T14:57:25.634384Z",
     "iopub.status.idle": "2021-03-31T14:59:21.402227Z",
     "shell.execute_reply": "2021-03-31T14:59:21.402743Z"
    },
    "papermill": {
     "duration": 115.828054,
     "end_time": "2021-03-31T14:59:21.402948",
     "exception": false,
     "start_time": "2021-03-31T14:57:25.574894",
     "status": "completed"
    },
    "tags": []
   },
   "outputs": [
    {
     "name": "stdout",
     "output_type": "stream",
     "text": [
      "Collecting langdetect\r\n",
      "  Downloading langdetect-1.0.8.tar.gz (981 kB)\r\n",
      "\u001b[K     |████████████████████████████████| 981 kB 1.3 MB/s \r\n",
      "\u001b[?25hRequirement already satisfied: six in /opt/conda/lib/python3.7/site-packages (from langdetect) (1.15.0)\r\n",
      "Building wheels for collected packages: langdetect\r\n",
      "  Building wheel for langdetect (setup.py) ... \u001b[?25l-\b \b\\\b \b|\b \b/\b \b-\b \bdone\r\n",
      "\u001b[?25h  Created wheel for langdetect: filename=langdetect-1.0.8-py3-none-any.whl size=993190 sha256=a724149e4138be7f55c702f2b6b1971cf0c8d83c00376c575ad1571d660aaa6c\r\n",
      "  Stored in directory: /root/.cache/pip/wheels/59/f6/9d/85068904dba861c0b9af74e286265a08da438748ee5ae56067\r\n",
      "Successfully built langdetect\r\n",
      "Installing collected packages: langdetect\r\n",
      "Successfully installed langdetect-1.0.8\r\n"
     ]
    },
    {
     "data": {
      "text/plain": [
       "en    10367\n",
       "fr       60\n",
       "ca       48\n",
       "it       27\n",
       "af       26\n",
       "da       21\n",
       "nl       16\n",
       "ro       15\n",
       "sv       10\n",
       "es        8\n",
       "no        4\n",
       "fi        4\n",
       "et        3\n",
       "tl        3\n",
       "cy        2\n",
       "sl        2\n",
       "sq        2\n",
       "id        2\n",
       "hr        2\n",
       "pt        1\n",
       "lt        1\n",
       "lv        1\n",
       "Name: lang, dtype: int64"
      ]
     },
     "execution_count": 24,
     "metadata": {},
     "output_type": "execute_result"
    }
   ],
   "source": [
    "!pip install langdetect\n",
    "import langdetect\n",
    "from langdetect import detect\n",
    "import re\n",
    "\n",
    "def detect_comment_lang(comment):\n",
    "    \n",
    "    comment = ' '.join(re.sub(\"(@[A-Za-z0-9_\\-]+ )|(https?:\\/\\/.* )|(www\\..* )\",\" \",comment).split())\n",
    "    try:\n",
    "        lang = detect(comment)\n",
    "    except:\n",
    "        lang = \"\"\n",
    "        \n",
    "    return lang\n",
    "\n",
    "df[\"lang\"] = df[\"claim-p\"].map(detect_comment_lang)\n",
    "\n",
    "# Summarizes detected language counts:\n",
    "df[\"lang\"].value_counts()"
   ]
  },
  {
   "cell_type": "code",
   "execution_count": 25,
   "metadata": {
    "execution": {
     "iopub.execute_input": "2021-03-31T14:59:21.546196Z",
     "iopub.status.busy": "2021-03-31T14:59:21.533694Z",
     "iopub.status.idle": "2021-03-31T14:59:21.554463Z",
     "shell.execute_reply": "2021-03-31T14:59:21.553881Z"
    },
    "papermill": {
     "duration": 0.090588,
     "end_time": "2021-03-31T14:59:21.554624",
     "exception": false,
     "start_time": "2021-03-31T14:59:21.464036",
     "status": "completed"
    },
    "tags": []
   },
   "outputs": [],
   "source": [
    "df = df[df[\"lang\"] == \"en\"]"
   ]
  },
  {
   "cell_type": "code",
   "execution_count": 26,
   "metadata": {
    "execution": {
     "iopub.execute_input": "2021-03-31T14:59:21.681871Z",
     "iopub.status.busy": "2021-03-31T14:59:21.680907Z",
     "iopub.status.idle": "2021-03-31T14:59:21.685432Z",
     "shell.execute_reply": "2021-03-31T14:59:21.686026Z"
    },
    "papermill": {
     "duration": 0.069723,
     "end_time": "2021-03-31T14:59:21.686203",
     "exception": false,
     "start_time": "2021-03-31T14:59:21.616480",
     "status": "completed"
    },
    "tags": []
   },
   "outputs": [],
   "source": [
    "df.index = pd.RangeIndex(0,len(df.index))"
   ]
  },
  {
   "cell_type": "code",
   "execution_count": 27,
   "metadata": {
    "execution": {
     "iopub.execute_input": "2021-03-31T14:59:21.813277Z",
     "iopub.status.busy": "2021-03-31T14:59:21.812243Z",
     "iopub.status.idle": "2021-03-31T14:59:21.819548Z",
     "shell.execute_reply": "2021-03-31T14:59:21.820065Z"
    },
    "papermill": {
     "duration": 0.072723,
     "end_time": "2021-03-31T14:59:21.820247",
     "exception": false,
     "start_time": "2021-03-31T14:59:21.747524",
     "status": "completed"
    },
    "tags": []
   },
   "outputs": [],
   "source": [
    "df = df.drop([\"lang\"],axis = 1)"
   ]
  },
  {
   "cell_type": "code",
   "execution_count": 28,
   "metadata": {
    "execution": {
     "iopub.execute_input": "2021-03-31T14:59:21.949506Z",
     "iopub.status.busy": "2021-03-31T14:59:21.948486Z",
     "iopub.status.idle": "2021-03-31T14:59:21.955509Z",
     "shell.execute_reply": "2021-03-31T14:59:21.955987Z"
    },
    "papermill": {
     "duration": 0.073187,
     "end_time": "2021-03-31T14:59:21.956168",
     "exception": false,
     "start_time": "2021-03-31T14:59:21.882981",
     "status": "completed"
    },
    "tags": []
   },
   "outputs": [],
   "source": [
    "df = df.drop([\"Unnamed: 0\"],axis = 1)"
   ]
  },
  {
   "cell_type": "code",
   "execution_count": 29,
   "metadata": {
    "execution": {
     "iopub.execute_input": "2021-03-31T14:59:22.085967Z",
     "iopub.status.busy": "2021-03-31T14:59:22.085019Z",
     "iopub.status.idle": "2021-03-31T14:59:22.092217Z",
     "shell.execute_reply": "2021-03-31T14:59:22.091556Z"
    },
    "papermill": {
     "duration": 0.072791,
     "end_time": "2021-03-31T14:59:22.092356",
     "exception": false,
     "start_time": "2021-03-31T14:59:22.019565",
     "status": "completed"
    },
    "tags": []
   },
   "outputs": [
    {
     "data": {
      "text/plain": [
       "(10367, 5)"
      ]
     },
     "execution_count": 29,
     "metadata": {},
     "output_type": "execute_result"
    }
   ],
   "source": [
    "df.shape"
   ]
  },
  {
   "cell_type": "code",
   "execution_count": 30,
   "metadata": {
    "execution": {
     "iopub.execute_input": "2021-03-31T14:59:22.229546Z",
     "iopub.status.busy": "2021-03-31T14:59:22.228577Z",
     "iopub.status.idle": "2021-03-31T14:59:22.233326Z",
     "shell.execute_reply": "2021-03-31T14:59:22.232639Z"
    },
    "papermill": {
     "duration": 0.079345,
     "end_time": "2021-03-31T14:59:22.233473",
     "exception": false,
     "start_time": "2021-03-31T14:59:22.154128",
     "status": "completed"
    },
    "tags": []
   },
   "outputs": [
    {
     "data": {
      "text/html": [
       "<div>\n",
       "<style scoped>\n",
       "    .dataframe tbody tr th:only-of-type {\n",
       "        vertical-align: middle;\n",
       "    }\n",
       "\n",
       "    .dataframe tbody tr th {\n",
       "        vertical-align: top;\n",
       "    }\n",
       "\n",
       "    .dataframe thead th {\n",
       "        text-align: right;\n",
       "    }\n",
       "</style>\n",
       "<table border=\"1\" class=\"dataframe\">\n",
       "  <thead>\n",
       "    <tr style=\"text-align: right;\">\n",
       "      <th></th>\n",
       "      <th>claim_id</th>\n",
       "      <th>claim</th>\n",
       "      <th>main_text</th>\n",
       "      <th>label</th>\n",
       "      <th>claim-p</th>\n",
       "    </tr>\n",
       "  </thead>\n",
       "  <tbody>\n",
       "    <tr>\n",
       "      <th>10362</th>\n",
       "      <td>3295</td>\n",
       "      <td>Christmas miracle for Florida dog whose heart ...</td>\n",
       "      <td>The heart of Gerald Ford’s 1-year-old French b...</td>\n",
       "      <td>1</td>\n",
       "      <td>christmas miracle for florida dog whose heart ...</td>\n",
       "    </tr>\n",
       "    <tr>\n",
       "      <th>10363</th>\n",
       "      <td>6904</td>\n",
       "      <td>Another dolphin dies at Arizona aquatic facility.</td>\n",
       "      <td>A statement from Dolphinaris Arizona in Scotts...</td>\n",
       "      <td>1</td>\n",
       "      <td>another dolphin dies at arizona aquatic facility.</td>\n",
       "    </tr>\n",
       "    <tr>\n",
       "      <th>10364</th>\n",
       "      <td>13874</td>\n",
       "      <td>What the facts say\" is ... \"the best scenario ...</td>\n",
       "      <td>Republican National Committee chairman Reince ...</td>\n",
       "      <td>0</td>\n",
       "      <td>what the facts say\" is ... \"the best scenario ...</td>\n",
       "    </tr>\n",
       "    <tr>\n",
       "      <th>10365</th>\n",
       "      <td>2847</td>\n",
       "      <td>FDA advisory panel rejects J&amp;J drug for acute ...</td>\n",
       "      <td>The panel voted 10 to 0, with one abstention, ...</td>\n",
       "      <td>1</td>\n",
       "      <td>fda advisory panel rejects j&amp;j drug for acute ...</td>\n",
       "    </tr>\n",
       "    <tr>\n",
       "      <th>10366</th>\n",
       "      <td>7394</td>\n",
       "      <td>Gene-editing Chinese scientist kept much of hi...</td>\n",
       "      <td>He Jiankui’s outsized aspirations began to tak...</td>\n",
       "      <td>1</td>\n",
       "      <td>gene-editing chinese scientist kept much of hi...</td>\n",
       "    </tr>\n",
       "  </tbody>\n",
       "</table>\n",
       "</div>"
      ],
      "text/plain": [
       "       claim_id                                              claim  \\\n",
       "10362      3295  Christmas miracle for Florida dog whose heart ...   \n",
       "10363      6904  Another dolphin dies at Arizona aquatic facility.   \n",
       "10364     13874  What the facts say\" is ... \"the best scenario ...   \n",
       "10365      2847  FDA advisory panel rejects J&J drug for acute ...   \n",
       "10366      7394  Gene-editing Chinese scientist kept much of hi...   \n",
       "\n",
       "                                               main_text label  \\\n",
       "10362  The heart of Gerald Ford’s 1-year-old French b...     1   \n",
       "10363  A statement from Dolphinaris Arizona in Scotts...     1   \n",
       "10364  Republican National Committee chairman Reince ...     0   \n",
       "10365  The panel voted 10 to 0, with one abstention, ...     1   \n",
       "10366  He Jiankui’s outsized aspirations began to tak...     1   \n",
       "\n",
       "                                                 claim-p  \n",
       "10362  christmas miracle for florida dog whose heart ...  \n",
       "10363  another dolphin dies at arizona aquatic facility.  \n",
       "10364  what the facts say\" is ... \"the best scenario ...  \n",
       "10365  fda advisory panel rejects j&j drug for acute ...  \n",
       "10366  gene-editing chinese scientist kept much of hi...  "
      ]
     },
     "execution_count": 30,
     "metadata": {},
     "output_type": "execute_result"
    }
   ],
   "source": [
    "df.tail()"
   ]
  },
  {
   "cell_type": "code",
   "execution_count": 31,
   "metadata": {
    "execution": {
     "iopub.execute_input": "2021-03-31T14:59:22.370535Z",
     "iopub.status.busy": "2021-03-31T14:59:22.363104Z",
     "iopub.status.idle": "2021-03-31T14:59:24.511134Z",
     "shell.execute_reply": "2021-03-31T14:59:24.510352Z"
    },
    "papermill": {
     "duration": 2.215424,
     "end_time": "2021-03-31T14:59:24.511276",
     "exception": false,
     "start_time": "2021-03-31T14:59:22.295852",
     "status": "completed"
    },
    "tags": []
   },
   "outputs": [],
   "source": [
    "df.to_csv(\"cleaned_file.csv\")"
   ]
  },
  {
   "cell_type": "markdown",
   "metadata": {
    "papermill": {
     "duration": 0.062444,
     "end_time": "2021-03-31T14:59:24.637165",
     "exception": false,
     "start_time": "2021-03-31T14:59:24.574721",
     "status": "completed"
    },
    "tags": []
   },
   "source": [
    "### Text Preprocessing (claims)"
   ]
  },
  {
   "cell_type": "markdown",
   "metadata": {
    "papermill": {
     "duration": 0.062858,
     "end_time": "2021-03-31T14:59:24.762726",
     "exception": false,
     "start_time": "2021-03-31T14:59:24.699868",
     "status": "completed"
    },
    "tags": []
   },
   "source": [
    "To be able to extract features from claims, I applied several text preprocessing operations to claims. These steps include tokenizing, pos tagging, lemmatization and removal of stop words."
   ]
  },
  {
   "cell_type": "code",
   "execution_count": 32,
   "metadata": {
    "execution": {
     "iopub.execute_input": "2021-03-31T14:59:24.894750Z",
     "iopub.status.busy": "2021-03-31T14:59:24.893539Z",
     "iopub.status.idle": "2021-03-31T14:59:25.556874Z",
     "shell.execute_reply": "2021-03-31T14:59:25.555727Z"
    },
    "papermill": {
     "duration": 0.731078,
     "end_time": "2021-03-31T14:59:25.557062",
     "exception": false,
     "start_time": "2021-03-31T14:59:24.825984",
     "status": "completed"
    },
    "tags": []
   },
   "outputs": [],
   "source": [
    "df = pd.read_csv(\"cleaned_file.csv\")"
   ]
  },
  {
   "cell_type": "code",
   "execution_count": 33,
   "metadata": {
    "execution": {
     "iopub.execute_input": "2021-03-31T14:59:25.689375Z",
     "iopub.status.busy": "2021-03-31T14:59:25.688718Z",
     "iopub.status.idle": "2021-03-31T14:59:27.712222Z",
     "shell.execute_reply": "2021-03-31T14:59:27.712677Z"
    },
    "papermill": {
     "duration": 2.092719,
     "end_time": "2021-03-31T14:59:27.712851",
     "exception": false,
     "start_time": "2021-03-31T14:59:25.620132",
     "status": "completed"
    },
    "tags": []
   },
   "outputs": [
    {
     "name": "stderr",
     "output_type": "stream",
     "text": [
      "/opt/conda/lib/python3.7/site-packages/nltk/twitter/__init__.py:20: UserWarning: The twython library has not been installed. Some functionality from the twitter package will not be available.\n",
      "  warnings.warn(\"The twython library has not been installed. \"\n"
     ]
    }
   ],
   "source": [
    "from nltk.corpus import stopwords\n",
    "import sys\n",
    "import re\n",
    "import nltk.data\n",
    "from nltk import pos_tag_sents\n",
    "from nltk.sentiment.util import mark_negation\n",
    "from nltk import pos_tag\n",
    "from nltk.stem import WordNetLemmatizer\n",
    "from nltk.corpus import wordnet as wn\n",
    "from nltk import pos_tag\n",
    "from nltk.tokenize import word_tokenize"
   ]
  },
  {
   "cell_type": "code",
   "execution_count": 34,
   "metadata": {
    "execution": {
     "iopub.execute_input": "2021-03-31T14:59:27.844123Z",
     "iopub.status.busy": "2021-03-31T14:59:27.843481Z",
     "iopub.status.idle": "2021-03-31T14:59:27.852743Z",
     "shell.execute_reply": "2021-03-31T14:59:27.853710Z"
    },
    "papermill": {
     "duration": 0.077342,
     "end_time": "2021-03-31T14:59:27.853939",
     "exception": false,
     "start_time": "2021-03-31T14:59:27.776597",
     "status": "completed"
    },
    "tags": []
   },
   "outputs": [],
   "source": [
    "from nltk.tokenize import RegexpTokenizer\n",
    "\n",
    "tokenizer = RegexpTokenizer(r'\\w+')"
   ]
  },
  {
   "cell_type": "code",
   "execution_count": 35,
   "metadata": {
    "execution": {
     "iopub.execute_input": "2021-03-31T14:59:27.986983Z",
     "iopub.status.busy": "2021-03-31T14:59:27.986289Z",
     "iopub.status.idle": "2021-03-31T14:59:28.148041Z",
     "shell.execute_reply": "2021-03-31T14:59:28.147266Z"
    },
    "papermill": {
     "duration": 0.229812,
     "end_time": "2021-03-31T14:59:28.148259",
     "exception": false,
     "start_time": "2021-03-31T14:59:27.918447",
     "status": "completed"
    },
    "tags": []
   },
   "outputs": [
    {
     "name": "stdout",
     "output_type": "stream",
     "text": [
      "[nltk_data] Downloading package averaged_perceptron_tagger to\n",
      "[nltk_data]     /usr/share/nltk_data...\n",
      "[nltk_data]   Package averaged_perceptron_tagger is already up-to-\n",
      "[nltk_data]       date!\n",
      "[nltk_data] Downloading package stopwords to /usr/share/nltk_data...\n",
      "[nltk_data]   Package stopwords is already up-to-date!\n"
     ]
    },
    {
     "data": {
      "text/plain": [
       "True"
      ]
     },
     "execution_count": 35,
     "metadata": {},
     "output_type": "execute_result"
    }
   ],
   "source": [
    "import nltk\n",
    "nltk.download('averaged_perceptron_tagger')\n",
    "nltk.download('stopwords')"
   ]
  },
  {
   "cell_type": "code",
   "execution_count": 36,
   "metadata": {
    "execution": {
     "iopub.execute_input": "2021-03-31T14:59:28.283479Z",
     "iopub.status.busy": "2021-03-31T14:59:28.282745Z",
     "iopub.status.idle": "2021-03-31T14:59:28.285891Z",
     "shell.execute_reply": "2021-03-31T14:59:28.286369Z"
    },
    "papermill": {
     "duration": 0.073249,
     "end_time": "2021-03-31T14:59:28.286545",
     "exception": false,
     "start_time": "2021-03-31T14:59:28.213296",
     "status": "completed"
    },
    "tags": []
   },
   "outputs": [],
   "source": [
    "def tokenize_postag(text):\n",
    "    tokenized = tokenizer.tokenize(text)\n",
    "    postagged = nltk.pos_tag(tokenized)\n",
    "    return postagged"
   ]
  },
  {
   "cell_type": "code",
   "execution_count": 37,
   "metadata": {
    "execution": {
     "iopub.execute_input": "2021-03-31T14:59:28.421612Z",
     "iopub.status.busy": "2021-03-31T14:59:28.420956Z",
     "iopub.status.idle": "2021-03-31T14:59:38.580111Z",
     "shell.execute_reply": "2021-03-31T14:59:38.578840Z"
    },
    "papermill": {
     "duration": 10.228715,
     "end_time": "2021-03-31T14:59:38.580278",
     "exception": false,
     "start_time": "2021-03-31T14:59:28.351563",
     "status": "completed"
    },
    "tags": []
   },
   "outputs": [],
   "source": [
    "df[\"postagged\"]= df[\"claim-p\"].apply(tokenize_postag)"
   ]
  },
  {
   "cell_type": "code",
   "execution_count": 38,
   "metadata": {
    "execution": {
     "iopub.execute_input": "2021-03-31T14:59:38.720342Z",
     "iopub.status.busy": "2021-03-31T14:59:38.719275Z",
     "iopub.status.idle": "2021-03-31T14:59:38.722581Z",
     "shell.execute_reply": "2021-03-31T14:59:38.721970Z"
    },
    "papermill": {
     "duration": 0.077552,
     "end_time": "2021-03-31T14:59:38.722734",
     "exception": false,
     "start_time": "2021-03-31T14:59:38.645182",
     "status": "completed"
    },
    "tags": []
   },
   "outputs": [],
   "source": [
    "from nltk import pos_tag\n",
    "from nltk.stem import WordNetLemmatizer\n",
    "from nltk.corpus import wordnet as wn\n",
    "\n",
    "lemmatizer = WordNetLemmatizer()\n",
    "\n",
    "def get_lemmatizer_pos(pos):\n",
    "    pos_start = pos[0] # Takes the first letter to simplify the POS tag\n",
    "    if pos_start == \"J\":\n",
    "        return wn.ADJ\n",
    "    elif pos_start == \"V\":\n",
    "        return wn.VERB\n",
    "    elif pos_start == \"R\":\n",
    "        return wn.ADV\n",
    "    else:\n",
    "        return wn.NOUN \n",
    "    \n",
    "    \n",
    "def lemmatize_text(text):\n",
    "\n",
    "        return [lemmatizer.lemmatize(token[0], pos=get_lemmatizer_pos(token[1])) for token in text]"
   ]
  },
  {
   "cell_type": "code",
   "execution_count": 39,
   "metadata": {
    "execution": {
     "iopub.execute_input": "2021-03-31T14:59:38.859645Z",
     "iopub.status.busy": "2021-03-31T14:59:38.858815Z",
     "iopub.status.idle": "2021-03-31T14:59:42.041839Z",
     "shell.execute_reply": "2021-03-31T14:59:42.041296Z"
    },
    "papermill": {
     "duration": 3.254274,
     "end_time": "2021-03-31T14:59:42.042011",
     "exception": false,
     "start_time": "2021-03-31T14:59:38.787737",
     "status": "completed"
    },
    "tags": []
   },
   "outputs": [],
   "source": [
    "df['lemmatized'] = df[\"postagged\"].apply(lemmatize_text)"
   ]
  },
  {
   "cell_type": "code",
   "execution_count": 40,
   "metadata": {
    "execution": {
     "iopub.execute_input": "2021-03-31T14:59:42.180165Z",
     "iopub.status.busy": "2021-03-31T14:59:42.179438Z",
     "iopub.status.idle": "2021-03-31T14:59:42.187515Z",
     "shell.execute_reply": "2021-03-31T14:59:42.186578Z"
    },
    "papermill": {
     "duration": 0.078609,
     "end_time": "2021-03-31T14:59:42.187683",
     "exception": false,
     "start_time": "2021-03-31T14:59:42.109074",
     "status": "completed"
    },
    "tags": []
   },
   "outputs": [
    {
     "data": {
      "text/plain": [
       "197"
      ]
     },
     "execution_count": 40,
     "metadata": {},
     "output_type": "execute_result"
    }
   ],
   "source": [
    "stop_words = stopwords.words('english')\n",
    "sw_list = [\"the\", '...' , '--' , \"''\" , '``' , \"'s\", \"a\", \"of\",\"get\", \"<lb>\", \"i\", \"ve\", \"t\", \"s\",\"m\",\"http\",\"com\",\"lb\"]\n",
    "stop_words.extend(sw_list)\n",
    "len(stop_words)"
   ]
  },
  {
   "cell_type": "code",
   "execution_count": 41,
   "metadata": {
    "execution": {
     "iopub.execute_input": "2021-03-31T14:59:42.352934Z",
     "iopub.status.busy": "2021-03-31T14:59:42.347672Z",
     "iopub.status.idle": "2021-03-31T14:59:42.640753Z",
     "shell.execute_reply": "2021-03-31T14:59:42.640078Z"
    },
    "papermill": {
     "duration": 0.386714,
     "end_time": "2021-03-31T14:59:42.640904",
     "exception": false,
     "start_time": "2021-03-31T14:59:42.254190",
     "status": "completed"
    },
    "tags": []
   },
   "outputs": [],
   "source": [
    "df['lemmatized'] = df['lemmatized'].apply(lambda x: [item for item in x if item not in stop_words])"
   ]
  },
  {
   "cell_type": "code",
   "execution_count": 42,
   "metadata": {
    "execution": {
     "iopub.execute_input": "2021-03-31T14:59:42.779541Z",
     "iopub.status.busy": "2021-03-31T14:59:42.778676Z",
     "iopub.status.idle": "2021-03-31T14:59:42.782409Z",
     "shell.execute_reply": "2021-03-31T14:59:42.781875Z"
    },
    "papermill": {
     "duration": 0.074876,
     "end_time": "2021-03-31T14:59:42.782554",
     "exception": false,
     "start_time": "2021-03-31T14:59:42.707678",
     "status": "completed"
    },
    "tags": []
   },
   "outputs": [],
   "source": [
    "def listToString(list):\n",
    "    str1 = \" \"\n",
    "    return (str1.join(list))"
   ]
  },
  {
   "cell_type": "code",
   "execution_count": 43,
   "metadata": {
    "execution": {
     "iopub.execute_input": "2021-03-31T14:59:42.930448Z",
     "iopub.status.busy": "2021-03-31T14:59:42.929525Z",
     "iopub.status.idle": "2021-03-31T14:59:42.933051Z",
     "shell.execute_reply": "2021-03-31T14:59:42.932485Z"
    },
    "papermill": {
     "duration": 0.08464,
     "end_time": "2021-03-31T14:59:42.933196",
     "exception": false,
     "start_time": "2021-03-31T14:59:42.848556",
     "status": "completed"
    },
    "tags": []
   },
   "outputs": [],
   "source": [
    "df['lemmatized_str'] = df[\"lemmatized\"].apply(listToString)"
   ]
  },
  {
   "cell_type": "code",
   "execution_count": 44,
   "metadata": {
    "execution": {
     "iopub.execute_input": "2021-03-31T14:59:43.079727Z",
     "iopub.status.busy": "2021-03-31T14:59:43.079052Z",
     "iopub.status.idle": "2021-03-31T14:59:43.111411Z",
     "shell.execute_reply": "2021-03-31T14:59:43.110796Z"
    },
    "papermill": {
     "duration": 0.11217,
     "end_time": "2021-03-31T14:59:43.111568",
     "exception": false,
     "start_time": "2021-03-31T14:59:42.999398",
     "status": "completed"
    },
    "tags": []
   },
   "outputs": [
    {
     "data": {
      "text/html": [
       "<div>\n",
       "<style scoped>\n",
       "    .dataframe tbody tr th:only-of-type {\n",
       "        vertical-align: middle;\n",
       "    }\n",
       "\n",
       "    .dataframe tbody tr th {\n",
       "        vertical-align: top;\n",
       "    }\n",
       "\n",
       "    .dataframe thead th {\n",
       "        text-align: right;\n",
       "    }\n",
       "</style>\n",
       "<table border=\"1\" class=\"dataframe\">\n",
       "  <thead>\n",
       "    <tr style=\"text-align: right;\">\n",
       "      <th></th>\n",
       "      <th>Unnamed: 0</th>\n",
       "      <th>claim_id</th>\n",
       "      <th>claim</th>\n",
       "      <th>main_text</th>\n",
       "      <th>label</th>\n",
       "      <th>claim-p</th>\n",
       "      <th>postagged</th>\n",
       "      <th>lemmatized</th>\n",
       "      <th>lemmatized_str</th>\n",
       "    </tr>\n",
       "  </thead>\n",
       "  <tbody>\n",
       "    <tr>\n",
       "      <th>0</th>\n",
       "      <td>0</td>\n",
       "      <td>15661</td>\n",
       "      <td>\"The money the Clinton Foundation took from fr...</td>\n",
       "      <td>\"Hillary Clinton is in the political crosshair...</td>\n",
       "      <td>0</td>\n",
       "      <td>\"the money the clinton foundation took from fr...</td>\n",
       "      <td>[(the, DT), (money, NN), (the, DT), (clinton, ...</td>\n",
       "      <td>[money, clinton, foundation, take, foreign, go...</td>\n",
       "      <td>money clinton foundation take foreign governme...</td>\n",
       "    </tr>\n",
       "    <tr>\n",
       "      <th>1</th>\n",
       "      <td>1</td>\n",
       "      <td>9893</td>\n",
       "      <td>Annual Mammograms May Have More False-Positives</td>\n",
       "      <td>While the financial costs of screening mammogr...</td>\n",
       "      <td>mixture</td>\n",
       "      <td>annual mammograms may have more false-positives</td>\n",
       "      <td>[(annual, JJ), (mammograms, NNS), (may, MD), (...</td>\n",
       "      <td>[annual, mammogram, may, false, positive]</td>\n",
       "      <td>annual mammogram may false positive</td>\n",
       "    </tr>\n",
       "    <tr>\n",
       "      <th>2</th>\n",
       "      <td>2</td>\n",
       "      <td>11358</td>\n",
       "      <td>SBRT Offers Prostate Cancer Patients High Canc...</td>\n",
       "      <td>The news release quotes lead researcher Robert...</td>\n",
       "      <td>mixture</td>\n",
       "      <td>sbrt offers prostate cancer patients high canc...</td>\n",
       "      <td>[(sbrt, NN), (offers, NNS), (prostate, VBP), (...</td>\n",
       "      <td>[sbrt, offer, prostate, cancer, patient, high,...</td>\n",
       "      <td>sbrt offer prostate cancer patient high cancer...</td>\n",
       "    </tr>\n",
       "    <tr>\n",
       "      <th>3</th>\n",
       "      <td>3</td>\n",
       "      <td>10166</td>\n",
       "      <td>Study: Vaccine for Breast, Ovarian Cancer Has ...</td>\n",
       "      <td>The story does discuss costs, but the framing ...</td>\n",
       "      <td>1</td>\n",
       "      <td>study: vaccine for breast, ovarian cancer has ...</td>\n",
       "      <td>[(study, NN), (vaccine, NN), (for, IN), (breas...</td>\n",
       "      <td>[study, vaccine, breast, ovarian, cancer, pote...</td>\n",
       "      <td>study vaccine breast ovarian cancer potential</td>\n",
       "    </tr>\n",
       "    <tr>\n",
       "      <th>4</th>\n",
       "      <td>4</td>\n",
       "      <td>9851</td>\n",
       "      <td>Angioplasty through the wrist backed by new study</td>\n",
       "      <td>The story did not provide cost estimates for e...</td>\n",
       "      <td>1</td>\n",
       "      <td>angioplasty through the wrist backed by new study</td>\n",
       "      <td>[(angioplasty, NN), (through, IN), (the, DT), ...</td>\n",
       "      <td>[angioplasty, wrist, back, new, study]</td>\n",
       "      <td>angioplasty wrist back new study</td>\n",
       "    </tr>\n",
       "  </tbody>\n",
       "</table>\n",
       "</div>"
      ],
      "text/plain": [
       "   Unnamed: 0  claim_id                                              claim  \\\n",
       "0           0     15661  \"The money the Clinton Foundation took from fr...   \n",
       "1           1      9893    Annual Mammograms May Have More False-Positives   \n",
       "2           2     11358  SBRT Offers Prostate Cancer Patients High Canc...   \n",
       "3           3     10166  Study: Vaccine for Breast, Ovarian Cancer Has ...   \n",
       "4           4      9851  Angioplasty through the wrist backed by new study   \n",
       "\n",
       "                                           main_text    label  \\\n",
       "0  \"Hillary Clinton is in the political crosshair...        0   \n",
       "1  While the financial costs of screening mammogr...  mixture   \n",
       "2  The news release quotes lead researcher Robert...  mixture   \n",
       "3  The story does discuss costs, but the framing ...        1   \n",
       "4  The story did not provide cost estimates for e...        1   \n",
       "\n",
       "                                             claim-p  \\\n",
       "0  \"the money the clinton foundation took from fr...   \n",
       "1    annual mammograms may have more false-positives   \n",
       "2  sbrt offers prostate cancer patients high canc...   \n",
       "3  study: vaccine for breast, ovarian cancer has ...   \n",
       "4  angioplasty through the wrist backed by new study   \n",
       "\n",
       "                                           postagged  \\\n",
       "0  [(the, DT), (money, NN), (the, DT), (clinton, ...   \n",
       "1  [(annual, JJ), (mammograms, NNS), (may, MD), (...   \n",
       "2  [(sbrt, NN), (offers, NNS), (prostate, VBP), (...   \n",
       "3  [(study, NN), (vaccine, NN), (for, IN), (breas...   \n",
       "4  [(angioplasty, NN), (through, IN), (the, DT), ...   \n",
       "\n",
       "                                          lemmatized  \\\n",
       "0  [money, clinton, foundation, take, foreign, go...   \n",
       "1          [annual, mammogram, may, false, positive]   \n",
       "2  [sbrt, offer, prostate, cancer, patient, high,...   \n",
       "3  [study, vaccine, breast, ovarian, cancer, pote...   \n",
       "4             [angioplasty, wrist, back, new, study]   \n",
       "\n",
       "                                      lemmatized_str  \n",
       "0  money clinton foundation take foreign governme...  \n",
       "1                annual mammogram may false positive  \n",
       "2  sbrt offer prostate cancer patient high cancer...  \n",
       "3      study vaccine breast ovarian cancer potential  \n",
       "4                   angioplasty wrist back new study  "
      ]
     },
     "execution_count": 44,
     "metadata": {},
     "output_type": "execute_result"
    }
   ],
   "source": [
    "df.head()"
   ]
  },
  {
   "cell_type": "code",
   "execution_count": 45,
   "metadata": {
    "execution": {
     "iopub.execute_input": "2021-03-31T14:59:43.252582Z",
     "iopub.status.busy": "2021-03-31T14:59:43.251875Z",
     "iopub.status.idle": "2021-03-31T14:59:45.301942Z",
     "shell.execute_reply": "2021-03-31T14:59:45.301333Z"
    },
    "papermill": {
     "duration": 2.12362,
     "end_time": "2021-03-31T14:59:45.302084",
     "exception": false,
     "start_time": "2021-03-31T14:59:43.178464",
     "status": "completed"
    },
    "tags": []
   },
   "outputs": [],
   "source": [
    "df[[\"claim_id\",\"main_text\",\"label\"]].to_csv(\"main_texts.csv\")"
   ]
  },
  {
   "cell_type": "code",
   "execution_count": 46,
   "metadata": {
    "execution": {
     "iopub.execute_input": "2021-03-31T14:59:45.445121Z",
     "iopub.status.busy": "2021-03-31T14:59:45.444369Z",
     "iopub.status.idle": "2021-03-31T14:59:45.451788Z",
     "shell.execute_reply": "2021-03-31T14:59:45.451090Z"
    },
    "papermill": {
     "duration": 0.081781,
     "end_time": "2021-03-31T14:59:45.451954",
     "exception": false,
     "start_time": "2021-03-31T14:59:45.370173",
     "status": "completed"
    },
    "tags": []
   },
   "outputs": [],
   "source": [
    "claim_df = df[[\"claim_id\",\"claim\",\"lemmatized_str\",\"label\"]]"
   ]
  },
  {
   "cell_type": "code",
   "execution_count": 47,
   "metadata": {
    "execution": {
     "iopub.execute_input": "2021-03-31T14:59:45.599153Z",
     "iopub.status.busy": "2021-03-31T14:59:45.598459Z",
     "iopub.status.idle": "2021-03-31T14:59:45.603338Z",
     "shell.execute_reply": "2021-03-31T14:59:45.602682Z"
    },
    "papermill": {
     "duration": 0.083772,
     "end_time": "2021-03-31T14:59:45.603487",
     "exception": false,
     "start_time": "2021-03-31T14:59:45.519715",
     "status": "completed"
    },
    "tags": []
   },
   "outputs": [
    {
     "data": {
      "text/html": [
       "<div>\n",
       "<style scoped>\n",
       "    .dataframe tbody tr th:only-of-type {\n",
       "        vertical-align: middle;\n",
       "    }\n",
       "\n",
       "    .dataframe tbody tr th {\n",
       "        vertical-align: top;\n",
       "    }\n",
       "\n",
       "    .dataframe thead th {\n",
       "        text-align: right;\n",
       "    }\n",
       "</style>\n",
       "<table border=\"1\" class=\"dataframe\">\n",
       "  <thead>\n",
       "    <tr style=\"text-align: right;\">\n",
       "      <th></th>\n",
       "      <th>claim_id</th>\n",
       "      <th>claim</th>\n",
       "      <th>lemmatized_str</th>\n",
       "      <th>label</th>\n",
       "    </tr>\n",
       "  </thead>\n",
       "  <tbody>\n",
       "    <tr>\n",
       "      <th>0</th>\n",
       "      <td>15661</td>\n",
       "      <td>\"The money the Clinton Foundation took from fr...</td>\n",
       "      <td>money clinton foundation take foreign governme...</td>\n",
       "      <td>0</td>\n",
       "    </tr>\n",
       "    <tr>\n",
       "      <th>1</th>\n",
       "      <td>9893</td>\n",
       "      <td>Annual Mammograms May Have More False-Positives</td>\n",
       "      <td>annual mammogram may false positive</td>\n",
       "      <td>mixture</td>\n",
       "    </tr>\n",
       "    <tr>\n",
       "      <th>2</th>\n",
       "      <td>11358</td>\n",
       "      <td>SBRT Offers Prostate Cancer Patients High Canc...</td>\n",
       "      <td>sbrt offer prostate cancer patient high cancer...</td>\n",
       "      <td>mixture</td>\n",
       "    </tr>\n",
       "    <tr>\n",
       "      <th>3</th>\n",
       "      <td>10166</td>\n",
       "      <td>Study: Vaccine for Breast, Ovarian Cancer Has ...</td>\n",
       "      <td>study vaccine breast ovarian cancer potential</td>\n",
       "      <td>1</td>\n",
       "    </tr>\n",
       "    <tr>\n",
       "      <th>4</th>\n",
       "      <td>9851</td>\n",
       "      <td>Angioplasty through the wrist backed by new study</td>\n",
       "      <td>angioplasty wrist back new study</td>\n",
       "      <td>1</td>\n",
       "    </tr>\n",
       "  </tbody>\n",
       "</table>\n",
       "</div>"
      ],
      "text/plain": [
       "   claim_id                                              claim  \\\n",
       "0     15661  \"The money the Clinton Foundation took from fr...   \n",
       "1      9893    Annual Mammograms May Have More False-Positives   \n",
       "2     11358  SBRT Offers Prostate Cancer Patients High Canc...   \n",
       "3     10166  Study: Vaccine for Breast, Ovarian Cancer Has ...   \n",
       "4      9851  Angioplasty through the wrist backed by new study   \n",
       "\n",
       "                                      lemmatized_str    label  \n",
       "0  money clinton foundation take foreign governme...        0  \n",
       "1                annual mammogram may false positive  mixture  \n",
       "2  sbrt offer prostate cancer patient high cancer...  mixture  \n",
       "3      study vaccine breast ovarian cancer potential        1  \n",
       "4                   angioplasty wrist back new study        1  "
      ]
     },
     "execution_count": 47,
     "metadata": {},
     "output_type": "execute_result"
    }
   ],
   "source": [
    "claim_df.head(5)"
   ]
  },
  {
   "cell_type": "markdown",
   "metadata": {
    "papermill": {
     "duration": 0.06697,
     "end_time": "2021-03-31T14:59:45.739111",
     "exception": false,
     "start_time": "2021-03-31T14:59:45.672141",
     "status": "completed"
    },
    "tags": []
   },
   "source": [
    "This is the final processed file, ready for feature extraction and classification steps. I split this preprocessed dataset into train and test files."
   ]
  },
  {
   "cell_type": "code",
   "execution_count": 48,
   "metadata": {
    "execution": {
     "iopub.execute_input": "2021-03-31T14:59:45.881994Z",
     "iopub.status.busy": "2021-03-31T14:59:45.881323Z",
     "iopub.status.idle": "2021-03-31T14:59:45.888319Z",
     "shell.execute_reply": "2021-03-31T14:59:45.889185Z"
    },
    "papermill": {
     "duration": 0.081273,
     "end_time": "2021-03-31T14:59:45.889416",
     "exception": false,
     "start_time": "2021-03-31T14:59:45.808143",
     "status": "completed"
    },
    "tags": []
   },
   "outputs": [
    {
     "name": "stderr",
     "output_type": "stream",
     "text": [
      "/opt/conda/lib/python3.7/site-packages/ipykernel_launcher.py:3: SettingWithCopyWarning: \n",
      "A value is trying to be set on a copy of a slice from a DataFrame.\n",
      "Try using .loc[row_indexer,col_indexer] = value instead\n",
      "\n",
      "See the caveats in the documentation: https://pandas.pydata.org/pandas-docs/stable/user_guide/indexing.html#returning-a-view-versus-a-copy\n",
      "  This is separate from the ipykernel package so we can avoid doing imports until\n"
     ]
    }
   ],
   "source": [
    "import numpy as np\n",
    "\n",
    "claim_df['split'] = np.random.randn(claim_df.shape[0], 1)\n",
    "\n",
    "msk = np.random.rand(len(claim_df)) <= 0.7\n",
    "\n",
    "train = claim_df[msk]\n",
    "test = claim_df[~msk]"
   ]
  },
  {
   "cell_type": "code",
   "execution_count": 49,
   "metadata": {
    "execution": {
     "iopub.execute_input": "2021-03-31T14:59:46.034829Z",
     "iopub.status.busy": "2021-03-31T14:59:46.032599Z",
     "iopub.status.idle": "2021-03-31T14:59:46.039649Z",
     "shell.execute_reply": "2021-03-31T14:59:46.039114Z"
    },
    "papermill": {
     "duration": 0.079467,
     "end_time": "2021-03-31T14:59:46.039806",
     "exception": false,
     "start_time": "2021-03-31T14:59:45.960339",
     "status": "completed"
    },
    "tags": []
   },
   "outputs": [
    {
     "data": {
      "text/plain": [
       "((7270, 5), (3097, 5))"
      ]
     },
     "execution_count": 49,
     "metadata": {},
     "output_type": "execute_result"
    }
   ],
   "source": [
    "(train.shape,test.shape)"
   ]
  },
  {
   "cell_type": "code",
   "execution_count": 50,
   "metadata": {
    "execution": {
     "iopub.execute_input": "2021-03-31T14:59:46.188011Z",
     "iopub.status.busy": "2021-03-31T14:59:46.184312Z",
     "iopub.status.idle": "2021-03-31T14:59:46.310343Z",
     "shell.execute_reply": "2021-03-31T14:59:46.309691Z"
    },
    "papermill": {
     "duration": 0.200113,
     "end_time": "2021-03-31T14:59:46.310512",
     "exception": false,
     "start_time": "2021-03-31T14:59:46.110399",
     "status": "completed"
    },
    "tags": []
   },
   "outputs": [],
   "source": [
    "train.to_csv(\"preprocessed_train.csv\")\n",
    "test.to_csv(\"preprocessed_test.csv\")"
   ]
  },
  {
   "cell_type": "markdown",
   "metadata": {
    "papermill": {
     "duration": 0.072721,
     "end_time": "2021-03-31T14:59:46.452103",
     "exception": false,
     "start_time": "2021-03-31T14:59:46.379382",
     "status": "completed"
    },
    "tags": []
   },
   "source": [
    "### Feature Extraction with TF-IDF"
   ]
  },
  {
   "cell_type": "markdown",
   "metadata": {
    "papermill": {
     "duration": 0.0705,
     "end_time": "2021-03-31T14:59:46.592599",
     "exception": false,
     "start_time": "2021-03-31T14:59:46.522099",
     "status": "completed"
    },
    "tags": []
   },
   "source": [
    "To extract required predictors for models, I applied TF-IDF vectorizer to preprocessed claims. After several experiments, I set ngram range as (1,2), and set maximum number of features to 60.000 since these parameters gave the best result. I seperately apply TFIDF to train and test data to prevent data leakage problem."
   ]
  },
  {
   "cell_type": "code",
   "execution_count": 51,
   "metadata": {
    "execution": {
     "iopub.execute_input": "2021-03-31T14:59:46.736972Z",
     "iopub.status.busy": "2021-03-31T14:59:46.736313Z",
     "iopub.status.idle": "2021-03-31T14:59:46.785445Z",
     "shell.execute_reply": "2021-03-31T14:59:46.784528Z"
    },
    "papermill": {
     "duration": 0.123224,
     "end_time": "2021-03-31T14:59:46.785621",
     "exception": false,
     "start_time": "2021-03-31T14:59:46.662397",
     "status": "completed"
    },
    "tags": []
   },
   "outputs": [],
   "source": [
    "dftrain = pd.read_csv(\"preprocessed_train.csv\")\n",
    "dftest = pd.read_csv(\"preprocessed_test.csv\")"
   ]
  },
  {
   "cell_type": "code",
   "execution_count": 52,
   "metadata": {
    "execution": {
     "iopub.execute_input": "2021-03-31T14:59:46.930106Z",
     "iopub.status.busy": "2021-03-31T14:59:46.929456Z",
     "iopub.status.idle": "2021-03-31T14:59:46.932348Z",
     "shell.execute_reply": "2021-03-31T14:59:46.932815Z"
    },
    "papermill": {
     "duration": 0.078174,
     "end_time": "2021-03-31T14:59:46.933017",
     "exception": false,
     "start_time": "2021-03-31T14:59:46.854843",
     "status": "completed"
    },
    "tags": []
   },
   "outputs": [],
   "source": [
    "Xtrain = dftrain.iloc[:,-3]\n",
    "ytrain = dftrain.iloc[:,-2]\n",
    "\n",
    "Xtest = dftest.iloc[:,-3]\n",
    "ytest = dftest.iloc[:,-2]"
   ]
  },
  {
   "cell_type": "code",
   "execution_count": 53,
   "metadata": {
    "execution": {
     "iopub.execute_input": "2021-03-31T14:59:47.077131Z",
     "iopub.status.busy": "2021-03-31T14:59:47.076439Z",
     "iopub.status.idle": "2021-03-31T14:59:47.080248Z",
     "shell.execute_reply": "2021-03-31T14:59:47.079704Z"
    },
    "papermill": {
     "duration": 0.077272,
     "end_time": "2021-03-31T14:59:47.080395",
     "exception": false,
     "start_time": "2021-03-31T14:59:47.003123",
     "status": "completed"
    },
    "tags": []
   },
   "outputs": [],
   "source": [
    "from sklearn.feature_extraction.text import TfidfVectorizer\n",
    "vectorizer = TfidfVectorizer(max_features = 60000 , lowercase=False , ngram_range=(1,2))"
   ]
  },
  {
   "cell_type": "code",
   "execution_count": 54,
   "metadata": {
    "execution": {
     "iopub.execute_input": "2021-03-31T14:59:47.247443Z",
     "iopub.status.busy": "2021-03-31T14:59:47.231777Z",
     "iopub.status.idle": "2021-03-31T14:59:48.012558Z",
     "shell.execute_reply": "2021-03-31T14:59:48.011983Z"
    },
    "papermill": {
     "duration": 0.860899,
     "end_time": "2021-03-31T14:59:48.012697",
     "exception": false,
     "start_time": "2021-03-31T14:59:47.151798",
     "status": "completed"
    },
    "tags": []
   },
   "outputs": [],
   "source": [
    "vec_train_data = vectorizer.fit_transform(Xtrain)\n",
    "vec_train_data = vec_train_data.toarray()"
   ]
  },
  {
   "cell_type": "code",
   "execution_count": 55,
   "metadata": {
    "execution": {
     "iopub.execute_input": "2021-03-31T14:59:48.177021Z",
     "iopub.status.busy": "2021-03-31T14:59:48.171593Z",
     "iopub.status.idle": "2021-03-31T14:59:48.389423Z",
     "shell.execute_reply": "2021-03-31T14:59:48.388705Z"
    },
    "papermill": {
     "duration": 0.306374,
     "end_time": "2021-03-31T14:59:48.389578",
     "exception": false,
     "start_time": "2021-03-31T14:59:48.083204",
     "status": "completed"
    },
    "tags": []
   },
   "outputs": [],
   "source": [
    "vec_test_data = vectorizer.transform(Xtest).toarray()"
   ]
  },
  {
   "cell_type": "code",
   "execution_count": 56,
   "metadata": {
    "execution": {
     "iopub.execute_input": "2021-03-31T14:59:48.534903Z",
     "iopub.status.busy": "2021-03-31T14:59:48.534183Z",
     "iopub.status.idle": "2021-03-31T14:59:48.537850Z",
     "shell.execute_reply": "2021-03-31T14:59:48.537214Z"
    },
    "papermill": {
     "duration": 0.078255,
     "end_time": "2021-03-31T14:59:48.538009",
     "exception": false,
     "start_time": "2021-03-31T14:59:48.459754",
     "status": "completed"
    },
    "tags": []
   },
   "outputs": [
    {
     "data": {
      "text/plain": [
       "((7270, 59984), (3097, 59984))"
      ]
     },
     "execution_count": 56,
     "metadata": {},
     "output_type": "execute_result"
    }
   ],
   "source": [
    "vec_train_data.shape , vec_test_data.shape"
   ]
  },
  {
   "cell_type": "code",
   "execution_count": 57,
   "metadata": {
    "execution": {
     "iopub.execute_input": "2021-03-31T14:59:48.688050Z",
     "iopub.status.busy": "2021-03-31T14:59:48.687143Z",
     "iopub.status.idle": "2021-03-31T14:59:48.692188Z",
     "shell.execute_reply": "2021-03-31T14:59:48.691513Z"
    },
    "papermill": {
     "duration": 0.083909,
     "end_time": "2021-03-31T14:59:48.692359",
     "exception": false,
     "start_time": "2021-03-31T14:59:48.608450",
     "status": "completed"
    },
    "tags": []
   },
   "outputs": [
    {
     "data": {
      "text/plain": [
       "1          3798\n",
       "0          2350\n",
       "mixture    1122\n",
       "Name: label, dtype: int64"
      ]
     },
     "execution_count": 57,
     "metadata": {},
     "output_type": "execute_result"
    }
   ],
   "source": [
    "ytrain.value_counts()"
   ]
  },
  {
   "cell_type": "code",
   "execution_count": 58,
   "metadata": {
    "execution": {
     "iopub.execute_input": "2021-03-31T14:59:48.841635Z",
     "iopub.status.busy": "2021-03-31T14:59:48.840748Z",
     "iopub.status.idle": "2021-03-31T14:59:48.845800Z",
     "shell.execute_reply": "2021-03-31T14:59:48.846299Z"
    },
    "papermill": {
     "duration": 0.083999,
     "end_time": "2021-03-31T14:59:48.846500",
     "exception": false,
     "start_time": "2021-03-31T14:59:48.762501",
     "status": "completed"
    },
    "tags": []
   },
   "outputs": [
    {
     "data": {
      "text/plain": [
       "1          1676\n",
       "0           955\n",
       "mixture     466\n",
       "Name: label, dtype: int64"
      ]
     },
     "execution_count": 58,
     "metadata": {},
     "output_type": "execute_result"
    }
   ],
   "source": [
    "ytest.value_counts()"
   ]
  },
  {
   "cell_type": "code",
   "execution_count": 59,
   "metadata": {
    "execution": {
     "iopub.execute_input": "2021-03-31T14:59:49.085711Z",
     "iopub.status.busy": "2021-03-31T14:59:49.085060Z",
     "iopub.status.idle": "2021-03-31T14:59:49.220665Z",
     "shell.execute_reply": "2021-03-31T14:59:49.219797Z"
    },
    "papermill": {
     "duration": 0.302759,
     "end_time": "2021-03-31T14:59:49.220873",
     "exception": false,
     "start_time": "2021-03-31T14:59:48.918114",
     "status": "completed"
    },
    "tags": []
   },
   "outputs": [],
   "source": [
    "training_data = pd.DataFrame(vec_train_data , columns=vectorizer.get_feature_names())\n",
    "testing_data = pd.DataFrame(vec_test_data , columns= vectorizer.get_feature_names())"
   ]
  },
  {
   "cell_type": "markdown",
   "metadata": {
    "papermill": {
     "duration": 0.072533,
     "end_time": "2021-03-31T14:59:49.365411",
     "exception": false,
     "start_time": "2021-03-31T14:59:49.292878",
     "status": "completed"
    },
    "tags": []
   },
   "source": [
    "### Multinomial Naive Bayes Model "
   ]
  },
  {
   "cell_type": "markdown",
   "metadata": {
    "papermill": {
     "duration": 0.071321,
     "end_time": "2021-03-31T14:59:49.510800",
     "exception": false,
     "start_time": "2021-03-31T14:59:49.439479",
     "status": "completed"
    },
    "tags": []
   },
   "source": [
    "As a baseline, I built a multinomial naive bayes model. Evaluation metrics are also provided. The outcome of the model looks sufficient, however, I aim to improve it by applying different techniques.\n",
    "\n",
    "False label's recall score is low, therefore, this model has low completeness for labelling false instances. This maybe due to unbalanced labels of instances since there are less false labels than true labels in the dataset."
   ]
  },
  {
   "cell_type": "code",
   "execution_count": 60,
   "metadata": {
    "execution": {
     "iopub.execute_input": "2021-03-31T14:59:49.661117Z",
     "iopub.status.busy": "2021-03-31T14:59:49.660316Z",
     "iopub.status.idle": "2021-03-31T14:59:49.666482Z",
     "shell.execute_reply": "2021-03-31T14:59:49.665777Z"
    },
    "papermill": {
     "duration": 0.083158,
     "end_time": "2021-03-31T14:59:49.666634",
     "exception": false,
     "start_time": "2021-03-31T14:59:49.583476",
     "status": "completed"
    },
    "tags": []
   },
   "outputs": [],
   "source": [
    "from sklearn.naive_bayes import MultinomialNB\n",
    "from sklearn.metrics import accuracy_score,classification_report"
   ]
  },
  {
   "cell_type": "code",
   "execution_count": 61,
   "metadata": {
    "execution": {
     "iopub.execute_input": "2021-03-31T14:59:49.819404Z",
     "iopub.status.busy": "2021-03-31T14:59:49.818270Z",
     "iopub.status.idle": "2021-03-31T14:59:53.149369Z",
     "shell.execute_reply": "2021-03-31T14:59:53.149834Z"
    },
    "papermill": {
     "duration": 3.410266,
     "end_time": "2021-03-31T14:59:53.150046",
     "exception": false,
     "start_time": "2021-03-31T14:59:49.739780",
     "status": "completed"
    },
    "scrolled": false,
    "tags": []
   },
   "outputs": [
    {
     "name": "stdout",
     "output_type": "stream",
     "text": [
      "              precision    recall  f1-score   support\n",
      "\n",
      "           0       0.64      0.21      0.32       955\n",
      "           1       0.58      0.96      0.73      1676\n",
      "     mixture       0.00      0.00      0.00       466\n",
      "\n",
      "    accuracy                           0.59      3097\n",
      "   macro avg       0.41      0.39      0.35      3097\n",
      "weighted avg       0.51      0.59      0.49      3097\n",
      "\n"
     ]
    },
    {
     "name": "stderr",
     "output_type": "stream",
     "text": [
      "/opt/conda/lib/python3.7/site-packages/sklearn/metrics/_classification.py:1245: UndefinedMetricWarning: Precision and F-score are ill-defined and being set to 0.0 in labels with no predicted samples. Use `zero_division` parameter to control this behavior.\n",
      "  _warn_prf(average, modifier, msg_start, len(result))\n",
      "/opt/conda/lib/python3.7/site-packages/sklearn/metrics/_classification.py:1245: UndefinedMetricWarning: Precision and F-score are ill-defined and being set to 0.0 in labels with no predicted samples. Use `zero_division` parameter to control this behavior.\n",
      "  _warn_prf(average, modifier, msg_start, len(result))\n",
      "/opt/conda/lib/python3.7/site-packages/sklearn/metrics/_classification.py:1245: UndefinedMetricWarning: Precision and F-score are ill-defined and being set to 0.0 in labels with no predicted samples. Use `zero_division` parameter to control this behavior.\n",
      "  _warn_prf(average, modifier, msg_start, len(result))\n"
     ]
    }
   ],
   "source": [
    "clf = MultinomialNB()\n",
    "clf.fit(vec_train_data, ytrain)\n",
    "y_pred  = clf.predict(vec_test_data)\n",
    "print(classification_report(ytest , y_pred))"
   ]
  },
  {
   "cell_type": "markdown",
   "metadata": {
    "papermill": {
     "duration": 0.071689,
     "end_time": "2021-03-31T14:59:53.295249",
     "exception": false,
     "start_time": "2021-03-31T14:59:53.223560",
     "status": "completed"
    },
    "tags": []
   },
   "source": [
    "From these metrics, we can infer that model blindly label inputs as 1. This increases recall score of label 1, but it does not mean that model performs good."
   ]
  },
  {
   "cell_type": "markdown",
   "metadata": {
    "papermill": {
     "duration": 0.07176,
     "end_time": "2021-03-31T14:59:53.439402",
     "exception": false,
     "start_time": "2021-03-31T14:59:53.367642",
     "status": "completed"
    },
    "tags": []
   },
   "source": [
    "### BERT Embeddings"
   ]
  },
  {
   "cell_type": "markdown",
   "metadata": {
    "papermill": {
     "duration": 0.071705,
     "end_time": "2021-03-31T14:59:53.584264",
     "exception": false,
     "start_time": "2021-03-31T14:59:53.512559",
     "status": "completed"
    },
    "tags": []
   },
   "source": [
    "In order to improve performance of the model, I decided to use pretrained BERT model for feature extraction process. Rather than building the whole architecture, I used SentenceTransformer library."
   ]
  },
  {
   "cell_type": "code",
   "execution_count": 62,
   "metadata": {
    "execution": {
     "iopub.execute_input": "2021-03-31T14:59:53.761487Z",
     "iopub.status.busy": "2021-03-31T14:59:53.760784Z",
     "iopub.status.idle": "2021-03-31T15:00:02.816756Z",
     "shell.execute_reply": "2021-03-31T15:00:02.815462Z"
    },
    "papermill": {
     "duration": 9.160281,
     "end_time": "2021-03-31T15:00:02.816958",
     "exception": false,
     "start_time": "2021-03-31T14:59:53.656677",
     "status": "completed"
    },
    "tags": []
   },
   "outputs": [
    {
     "name": "stdout",
     "output_type": "stream",
     "text": [
      "Collecting sentence_transformers\r\n",
      "  Downloading sentence-transformers-1.0.3.tar.gz (74 kB)\r\n",
      "\u001b[K     |████████████████████████████████| 74 kB 775 kB/s \r\n",
      "\u001b[?25hRequirement already satisfied: transformers<5.0.0,>=3.1.0 in /opt/conda/lib/python3.7/site-packages (from sentence_transformers) (4.2.2)\r\n",
      "Requirement already satisfied: tqdm in /opt/conda/lib/python3.7/site-packages (from sentence_transformers) (4.55.1)\r\n",
      "Requirement already satisfied: torch>=1.6.0 in /opt/conda/lib/python3.7/site-packages (from sentence_transformers) (1.7.0)\r\n",
      "Requirement already satisfied: numpy in /opt/conda/lib/python3.7/site-packages (from sentence_transformers) (1.19.5)\r\n",
      "Requirement already satisfied: scikit-learn in /opt/conda/lib/python3.7/site-packages (from sentence_transformers) (0.24.1)\r\n",
      "Requirement already satisfied: scipy in /opt/conda/lib/python3.7/site-packages (from sentence_transformers) (1.5.4)\r\n",
      "Requirement already satisfied: nltk in /opt/conda/lib/python3.7/site-packages (from sentence_transformers) (3.2.4)\r\n",
      "Requirement already satisfied: sentencepiece in /opt/conda/lib/python3.7/site-packages (from sentence_transformers) (0.1.95)\r\n",
      "Requirement already satisfied: future in /opt/conda/lib/python3.7/site-packages (from torch>=1.6.0->sentence_transformers) (0.18.2)\r\n",
      "Requirement already satisfied: typing_extensions in /opt/conda/lib/python3.7/site-packages (from torch>=1.6.0->sentence_transformers) (3.7.4.3)\r\n",
      "Requirement already satisfied: dataclasses in /opt/conda/lib/python3.7/site-packages (from torch>=1.6.0->sentence_transformers) (0.6)\r\n",
      "Requirement already satisfied: tokenizers==0.9.4 in /opt/conda/lib/python3.7/site-packages (from transformers<5.0.0,>=3.1.0->sentence_transformers) (0.9.4)\r\n",
      "Requirement already satisfied: packaging in /opt/conda/lib/python3.7/site-packages (from transformers<5.0.0,>=3.1.0->sentence_transformers) (20.8)\r\n",
      "Requirement already satisfied: regex!=2019.12.17 in /opt/conda/lib/python3.7/site-packages (from transformers<5.0.0,>=3.1.0->sentence_transformers) (2020.11.13)\r\n",
      "Requirement already satisfied: requests in /opt/conda/lib/python3.7/site-packages (from transformers<5.0.0,>=3.1.0->sentence_transformers) (2.25.1)\r\n",
      "Requirement already satisfied: filelock in /opt/conda/lib/python3.7/site-packages (from transformers<5.0.0,>=3.1.0->sentence_transformers) (3.0.12)\r\n",
      "Requirement already satisfied: sacremoses in /opt/conda/lib/python3.7/site-packages (from transformers<5.0.0,>=3.1.0->sentence_transformers) (0.0.43)\r\n",
      "Requirement already satisfied: importlib-metadata in /opt/conda/lib/python3.7/site-packages (from transformers<5.0.0,>=3.1.0->sentence_transformers) (3.3.0)\r\n",
      "Requirement already satisfied: zipp>=0.5 in /opt/conda/lib/python3.7/site-packages (from importlib-metadata->transformers<5.0.0,>=3.1.0->sentence_transformers) (3.4.0)\r\n",
      "Requirement already satisfied: six in /opt/conda/lib/python3.7/site-packages (from nltk->sentence_transformers) (1.15.0)\r\n",
      "Requirement already satisfied: pyparsing>=2.0.2 in /opt/conda/lib/python3.7/site-packages (from packaging->transformers<5.0.0,>=3.1.0->sentence_transformers) (2.4.7)\r\n",
      "Requirement already satisfied: certifi>=2017.4.17 in /opt/conda/lib/python3.7/site-packages (from requests->transformers<5.0.0,>=3.1.0->sentence_transformers) (2020.12.5)\r\n",
      "Requirement already satisfied: idna<3,>=2.5 in /opt/conda/lib/python3.7/site-packages (from requests->transformers<5.0.0,>=3.1.0->sentence_transformers) (2.10)\r\n",
      "Requirement already satisfied: urllib3<1.27,>=1.21.1 in /opt/conda/lib/python3.7/site-packages (from requests->transformers<5.0.0,>=3.1.0->sentence_transformers) (1.26.2)\r\n",
      "Requirement already satisfied: chardet<5,>=3.0.2 in /opt/conda/lib/python3.7/site-packages (from requests->transformers<5.0.0,>=3.1.0->sentence_transformers) (3.0.4)\r\n",
      "Requirement already satisfied: click in /opt/conda/lib/python3.7/site-packages (from sacremoses->transformers<5.0.0,>=3.1.0->sentence_transformers) (7.1.2)\r\n",
      "Requirement already satisfied: joblib in /opt/conda/lib/python3.7/site-packages (from sacremoses->transformers<5.0.0,>=3.1.0->sentence_transformers) (1.0.0)\r\n",
      "Requirement already satisfied: threadpoolctl>=2.0.0 in /opt/conda/lib/python3.7/site-packages (from scikit-learn->sentence_transformers) (2.1.0)\r\n",
      "Building wheels for collected packages: sentence-transformers\r\n",
      "  Building wheel for sentence-transformers (setup.py) ... \u001b[?25l-\b \b\\\b \bdone\r\n",
      "\u001b[?25h  Created wheel for sentence-transformers: filename=sentence_transformers-1.0.3-py3-none-any.whl size=114276 sha256=75de5a5f722980eb6c5dfc635746cea5ea01a3cbdc3d0e7118743b0028ec6be0\r\n",
      "  Stored in directory: /root/.cache/pip/wheels/1b/bf/4c/23bc3e6ee5cce3844a3a807d26c7943caafa756a44574d7aa1\r\n",
      "Successfully built sentence-transformers\r\n",
      "Installing collected packages: sentence-transformers\r\n",
      "Successfully installed sentence-transformers-1.0.3\r\n"
     ]
    }
   ],
   "source": [
    "!pip install sentence_transformers"
   ]
  },
  {
   "cell_type": "code",
   "execution_count": 63,
   "metadata": {
    "execution": {
     "iopub.execute_input": "2021-03-31T15:00:02.977286Z",
     "iopub.status.busy": "2021-03-31T15:00:02.976319Z",
     "iopub.status.idle": "2021-03-31T15:00:05.082510Z",
     "shell.execute_reply": "2021-03-31T15:00:05.080963Z"
    },
    "papermill": {
     "duration": 2.189211,
     "end_time": "2021-03-31T15:00:05.082686",
     "exception": false,
     "start_time": "2021-03-31T15:00:02.893475",
     "status": "completed"
    },
    "tags": []
   },
   "outputs": [],
   "source": [
    "from sentence_transformers import SentenceTransformer"
   ]
  },
  {
   "cell_type": "code",
   "execution_count": 64,
   "metadata": {
    "execution": {
     "iopub.execute_input": "2021-03-31T15:00:05.247694Z",
     "iopub.status.busy": "2021-03-31T15:00:05.242799Z",
     "iopub.status.idle": "2021-03-31T15:02:47.419237Z",
     "shell.execute_reply": "2021-03-31T15:02:47.418361Z"
    },
    "papermill": {
     "duration": 162.260214,
     "end_time": "2021-03-31T15:02:47.419466",
     "exception": false,
     "start_time": "2021-03-31T15:00:05.159252",
     "status": "completed"
    },
    "tags": []
   },
   "outputs": [
    {
     "data": {
      "application/vnd.jupyter.widget-view+json": {
       "model_id": "34b6b6b583934b84bc6970e0012e5e78",
       "version_major": 2,
       "version_minor": 0
      },
      "text/plain": [
       "  0%|          | 0.00/245M [00:00<?, ?B/s]"
      ]
     },
     "metadata": {},
     "output_type": "display_data"
    }
   ],
   "source": [
    "sentence_model = SentenceTransformer(\"stsb-distilbert-base\")\n",
    "train_embeddings = sentence_model.encode(Xtrain, show_progress_bar=False)\n",
    "test_embeddings = sentence_model.encode(Xtest, show_progress_bar=False)"
   ]
  },
  {
   "cell_type": "code",
   "execution_count": 65,
   "metadata": {
    "execution": {
     "iopub.execute_input": "2021-03-31T15:02:47.592061Z",
     "iopub.status.busy": "2021-03-31T15:02:47.591093Z",
     "iopub.status.idle": "2021-03-31T15:02:47.595145Z",
     "shell.execute_reply": "2021-03-31T15:02:47.594500Z"
    },
    "papermill": {
     "duration": 0.087152,
     "end_time": "2021-03-31T15:02:47.595285",
     "exception": false,
     "start_time": "2021-03-31T15:02:47.508133",
     "status": "completed"
    },
    "tags": []
   },
   "outputs": [
    {
     "data": {
      "text/plain": [
       "((7270, 768), (3097, 768))"
      ]
     },
     "execution_count": 65,
     "metadata": {},
     "output_type": "execute_result"
    }
   ],
   "source": [
    "train_embeddings.shape , test_embeddings.shape"
   ]
  },
  {
   "cell_type": "markdown",
   "metadata": {
    "papermill": {
     "duration": 0.077635,
     "end_time": "2021-03-31T15:02:47.762762",
     "exception": false,
     "start_time": "2021-03-31T15:02:47.685127",
     "status": "completed"
    },
    "tags": []
   },
   "source": [
    "I use pretrained BERT models for feature extraction. At the end of this process, I get 768 dimensions of texts, ready to used for classification of claims whether they are true or false. "
   ]
  },
  {
   "cell_type": "code",
   "execution_count": 66,
   "metadata": {
    "execution": {
     "iopub.execute_input": "2021-03-31T15:02:47.926685Z",
     "iopub.status.busy": "2021-03-31T15:02:47.925488Z",
     "iopub.status.idle": "2021-03-31T15:04:09.417333Z",
     "shell.execute_reply": "2021-03-31T15:04:09.417961Z"
    },
    "papermill": {
     "duration": 81.577035,
     "end_time": "2021-03-31T15:04:09.418345",
     "exception": false,
     "start_time": "2021-03-31T15:02:47.841310",
     "status": "completed"
    },
    "tags": []
   },
   "outputs": [
    {
     "data": {
      "text/plain": [
       "SVC(C=100, degree=8, gamma='auto')"
      ]
     },
     "execution_count": 66,
     "metadata": {},
     "output_type": "execute_result"
    }
   ],
   "source": [
    "from sklearn import svm\n",
    "from sklearn.metrics import accuracy_score,classification_report\n",
    "from sklearn.model_selection import cross_val_score\n",
    "\n",
    "SVM = svm.SVC(C=100, kernel='rbf', degree=8, gamma=\"auto\")\n",
    "SVM.fit(train_embeddings, ytrain)# predict the labels on validation dataset\n",
    "\n"
   ]
  },
  {
   "cell_type": "code",
   "execution_count": 67,
   "metadata": {
    "execution": {
     "iopub.execute_input": "2021-03-31T15:04:09.608647Z",
     "iopub.status.busy": "2021-03-31T15:04:09.606271Z",
     "iopub.status.idle": "2021-03-31T15:12:18.106458Z",
     "shell.execute_reply": "2021-03-31T15:12:18.107006Z"
    },
    "papermill": {
     "duration": 488.610626,
     "end_time": "2021-03-31T15:12:18.107242",
     "exception": false,
     "start_time": "2021-03-31T15:04:09.496616",
     "status": "completed"
    },
    "tags": []
   },
   "outputs": [
    {
     "name": "stdout",
     "output_type": "stream",
     "text": [
      "0.5727647867950483\n"
     ]
    }
   ],
   "source": [
    "cvscore = cross_val_score(SVM , train_embeddings,ytrain, cv=10)\n",
    "print(cvscore.mean())"
   ]
  },
  {
   "cell_type": "markdown",
   "metadata": {
    "papermill": {
     "duration": 0.078122,
     "end_time": "2021-03-31T15:12:18.328422",
     "exception": false,
     "start_time": "2021-03-31T15:12:18.250300",
     "status": "completed"
    },
    "tags": []
   },
   "source": [
    "I applied 10-fold cross validation for my SVM model, result looks promising if you consider that I only used claim texts for feature extraction."
   ]
  },
  {
   "cell_type": "code",
   "execution_count": 68,
   "metadata": {
    "execution": {
     "iopub.execute_input": "2021-03-31T15:12:18.491942Z",
     "iopub.status.busy": "2021-03-31T15:12:18.491237Z",
     "iopub.status.idle": "2021-03-31T15:12:35.931170Z",
     "shell.execute_reply": "2021-03-31T15:12:35.931647Z"
    },
    "papermill": {
     "duration": 17.524159,
     "end_time": "2021-03-31T15:12:35.931874",
     "exception": false,
     "start_time": "2021-03-31T15:12:18.407715",
     "status": "completed"
    },
    "tags": []
   },
   "outputs": [
    {
     "name": "stdout",
     "output_type": "stream",
     "text": [
      "              precision    recall  f1-score   support\n",
      "\n",
      "           0       0.48      0.52      0.50       955\n",
      "           1       0.71      0.73      0.72      1676\n",
      "     mixture       0.25      0.18      0.21       466\n",
      "\n",
      "    accuracy                           0.58      3097\n",
      "   macro avg       0.48      0.48      0.48      3097\n",
      "weighted avg       0.57      0.58      0.58      3097\n",
      "\n"
     ]
    }
   ],
   "source": [
    "predictions_SVM = SVM.predict(test_embeddings)# Use accuracy_score function to get the accuracy\n",
    "\n",
    "\n",
    "print(classification_report(ytest , predictions_SVM))"
   ]
  },
  {
   "cell_type": "markdown",
   "metadata": {
    "papermill": {
     "duration": 0.080006,
     "end_time": "2021-03-31T15:12:36.092479",
     "exception": false,
     "start_time": "2021-03-31T15:12:36.012473",
     "status": "completed"
    },
    "tags": []
   },
   "source": [
    "After using BERT embeddings, rather than TFIDF vectors, accuracy is considerably increased. Aim of this project was to test, if health related fact checking is possible solely using textual claims data. Using whole main text of health related news would provide better results. Additionally, model performance can be increased with using additional features. "
   ]
  }
 ],
 "metadata": {
  "kernelspec": {
   "display_name": "Python 3",
   "language": "python",
   "name": "python3"
  },
  "language_info": {
   "codemirror_mode": {
    "name": "ipython",
    "version": 3
   },
   "file_extension": ".py",
   "mimetype": "text/x-python",
   "name": "python",
   "nbconvert_exporter": "python",
   "pygments_lexer": "ipython3",
   "version": "3.7.9"
  },
  "papermill": {
   "default_parameters": {},
   "duration": 927.470499,
   "end_time": "2021-03-31T15:12:37.686301",
   "environment_variables": {},
   "exception": null,
   "input_path": "__notebook__.ipynb",
   "output_path": "__notebook__.ipynb",
   "parameters": {},
   "start_time": "2021-03-31T14:57:10.215802",
   "version": "2.2.2"
  },
  "widgets": {
   "application/vnd.jupyter.widget-state+json": {
    "state": {
     "1c2165c1eaa54001abb2a0d3954f4e93": {
      "model_module": "@jupyter-widgets/controls",
      "model_module_version": "1.5.0",
      "model_name": "HTMLModel",
      "state": {
       "_dom_classes": [],
       "_model_module": "@jupyter-widgets/controls",
       "_model_module_version": "1.5.0",
       "_model_name": "HTMLModel",
       "_view_count": null,
       "_view_module": "@jupyter-widgets/controls",
       "_view_module_version": "1.5.0",
       "_view_name": "HTMLView",
       "description": "",
       "description_tooltip": null,
       "layout": "IPY_MODEL_cfe2bd208fbb4a1291dfe8e51f052fb9",
       "placeholder": "​",
       "style": "IPY_MODEL_ccf892e34ba542e48d356b5490f25f23",
       "value": " 245M/245M [00:16&lt;00:00, 19.8MB/s]"
      }
     },
     "34b6b6b583934b84bc6970e0012e5e78": {
      "model_module": "@jupyter-widgets/controls",
      "model_module_version": "1.5.0",
      "model_name": "HBoxModel",
      "state": {
       "_dom_classes": [],
       "_model_module": "@jupyter-widgets/controls",
       "_model_module_version": "1.5.0",
       "_model_name": "HBoxModel",
       "_view_count": null,
       "_view_module": "@jupyter-widgets/controls",
       "_view_module_version": "1.5.0",
       "_view_name": "HBoxView",
       "box_style": "",
       "children": [
        "IPY_MODEL_8639edd53f274d958a5a5def728df6e9",
        "IPY_MODEL_9f52fcc58af7463ca8fec9521fdbfb59",
        "IPY_MODEL_1c2165c1eaa54001abb2a0d3954f4e93"
       ],
       "layout": "IPY_MODEL_a3029d463fe34ee6bebd1b99c866b407"
      }
     },
     "501c6ebbe9984d69b0fbc0f6a620c68e": {
      "model_module": "@jupyter-widgets/base",
      "model_module_version": "1.2.0",
      "model_name": "LayoutModel",
      "state": {
       "_model_module": "@jupyter-widgets/base",
       "_model_module_version": "1.2.0",
       "_model_name": "LayoutModel",
       "_view_count": null,
       "_view_module": "@jupyter-widgets/base",
       "_view_module_version": "1.2.0",
       "_view_name": "LayoutView",
       "align_content": null,
       "align_items": null,
       "align_self": null,
       "border": null,
       "bottom": null,
       "display": null,
       "flex": null,
       "flex_flow": null,
       "grid_area": null,
       "grid_auto_columns": null,
       "grid_auto_flow": null,
       "grid_auto_rows": null,
       "grid_column": null,
       "grid_gap": null,
       "grid_row": null,
       "grid_template_areas": null,
       "grid_template_columns": null,
       "grid_template_rows": null,
       "height": null,
       "justify_content": null,
       "justify_items": null,
       "left": null,
       "margin": null,
       "max_height": null,
       "max_width": null,
       "min_height": null,
       "min_width": null,
       "object_fit": null,
       "object_position": null,
       "order": null,
       "overflow": null,
       "overflow_x": null,
       "overflow_y": null,
       "padding": null,
       "right": null,
       "top": null,
       "visibility": null,
       "width": null
      }
     },
     "5b770dc313c64cf58f3cb059d595a2c9": {
      "model_module": "@jupyter-widgets/controls",
      "model_module_version": "1.5.0",
      "model_name": "ProgressStyleModel",
      "state": {
       "_model_module": "@jupyter-widgets/controls",
       "_model_module_version": "1.5.0",
       "_model_name": "ProgressStyleModel",
       "_view_count": null,
       "_view_module": "@jupyter-widgets/base",
       "_view_module_version": "1.2.0",
       "_view_name": "StyleView",
       "bar_color": null,
       "description_width": ""
      }
     },
     "5e2f82e14bb84af8be08ce19af41de6e": {
      "model_module": "@jupyter-widgets/controls",
      "model_module_version": "1.5.0",
      "model_name": "DescriptionStyleModel",
      "state": {
       "_model_module": "@jupyter-widgets/controls",
       "_model_module_version": "1.5.0",
       "_model_name": "DescriptionStyleModel",
       "_view_count": null,
       "_view_module": "@jupyter-widgets/base",
       "_view_module_version": "1.2.0",
       "_view_name": "StyleView",
       "description_width": ""
      }
     },
     "8639edd53f274d958a5a5def728df6e9": {
      "model_module": "@jupyter-widgets/controls",
      "model_module_version": "1.5.0",
      "model_name": "HTMLModel",
      "state": {
       "_dom_classes": [],
       "_model_module": "@jupyter-widgets/controls",
       "_model_module_version": "1.5.0",
       "_model_name": "HTMLModel",
       "_view_count": null,
       "_view_module": "@jupyter-widgets/controls",
       "_view_module_version": "1.5.0",
       "_view_name": "HTMLView",
       "description": "",
       "description_tooltip": null,
       "layout": "IPY_MODEL_d084a057b52b4824b68f8aa15da00d8b",
       "placeholder": "​",
       "style": "IPY_MODEL_5e2f82e14bb84af8be08ce19af41de6e",
       "value": "100%"
      }
     },
     "9f52fcc58af7463ca8fec9521fdbfb59": {
      "model_module": "@jupyter-widgets/controls",
      "model_module_version": "1.5.0",
      "model_name": "FloatProgressModel",
      "state": {
       "_dom_classes": [],
       "_model_module": "@jupyter-widgets/controls",
       "_model_module_version": "1.5.0",
       "_model_name": "FloatProgressModel",
       "_view_count": null,
       "_view_module": "@jupyter-widgets/controls",
       "_view_module_version": "1.5.0",
       "_view_name": "ProgressView",
       "bar_style": "success",
       "description": "",
       "description_tooltip": null,
       "layout": "IPY_MODEL_501c6ebbe9984d69b0fbc0f6a620c68e",
       "max": 244715968.0,
       "min": 0.0,
       "orientation": "horizontal",
       "style": "IPY_MODEL_5b770dc313c64cf58f3cb059d595a2c9",
       "value": 244715968.0
      }
     },
     "a3029d463fe34ee6bebd1b99c866b407": {
      "model_module": "@jupyter-widgets/base",
      "model_module_version": "1.2.0",
      "model_name": "LayoutModel",
      "state": {
       "_model_module": "@jupyter-widgets/base",
       "_model_module_version": "1.2.0",
       "_model_name": "LayoutModel",
       "_view_count": null,
       "_view_module": "@jupyter-widgets/base",
       "_view_module_version": "1.2.0",
       "_view_name": "LayoutView",
       "align_content": null,
       "align_items": null,
       "align_self": null,
       "border": null,
       "bottom": null,
       "display": null,
       "flex": null,
       "flex_flow": null,
       "grid_area": null,
       "grid_auto_columns": null,
       "grid_auto_flow": null,
       "grid_auto_rows": null,
       "grid_column": null,
       "grid_gap": null,
       "grid_row": null,
       "grid_template_areas": null,
       "grid_template_columns": null,
       "grid_template_rows": null,
       "height": null,
       "justify_content": null,
       "justify_items": null,
       "left": null,
       "margin": null,
       "max_height": null,
       "max_width": null,
       "min_height": null,
       "min_width": null,
       "object_fit": null,
       "object_position": null,
       "order": null,
       "overflow": null,
       "overflow_x": null,
       "overflow_y": null,
       "padding": null,
       "right": null,
       "top": null,
       "visibility": null,
       "width": null
      }
     },
     "ccf892e34ba542e48d356b5490f25f23": {
      "model_module": "@jupyter-widgets/controls",
      "model_module_version": "1.5.0",
      "model_name": "DescriptionStyleModel",
      "state": {
       "_model_module": "@jupyter-widgets/controls",
       "_model_module_version": "1.5.0",
       "_model_name": "DescriptionStyleModel",
       "_view_count": null,
       "_view_module": "@jupyter-widgets/base",
       "_view_module_version": "1.2.0",
       "_view_name": "StyleView",
       "description_width": ""
      }
     },
     "cfe2bd208fbb4a1291dfe8e51f052fb9": {
      "model_module": "@jupyter-widgets/base",
      "model_module_version": "1.2.0",
      "model_name": "LayoutModel",
      "state": {
       "_model_module": "@jupyter-widgets/base",
       "_model_module_version": "1.2.0",
       "_model_name": "LayoutModel",
       "_view_count": null,
       "_view_module": "@jupyter-widgets/base",
       "_view_module_version": "1.2.0",
       "_view_name": "LayoutView",
       "align_content": null,
       "align_items": null,
       "align_self": null,
       "border": null,
       "bottom": null,
       "display": null,
       "flex": null,
       "flex_flow": null,
       "grid_area": null,
       "grid_auto_columns": null,
       "grid_auto_flow": null,
       "grid_auto_rows": null,
       "grid_column": null,
       "grid_gap": null,
       "grid_row": null,
       "grid_template_areas": null,
       "grid_template_columns": null,
       "grid_template_rows": null,
       "height": null,
       "justify_content": null,
       "justify_items": null,
       "left": null,
       "margin": null,
       "max_height": null,
       "max_width": null,
       "min_height": null,
       "min_width": null,
       "object_fit": null,
       "object_position": null,
       "order": null,
       "overflow": null,
       "overflow_x": null,
       "overflow_y": null,
       "padding": null,
       "right": null,
       "top": null,
       "visibility": null,
       "width": null
      }
     },
     "d084a057b52b4824b68f8aa15da00d8b": {
      "model_module": "@jupyter-widgets/base",
      "model_module_version": "1.2.0",
      "model_name": "LayoutModel",
      "state": {
       "_model_module": "@jupyter-widgets/base",
       "_model_module_version": "1.2.0",
       "_model_name": "LayoutModel",
       "_view_count": null,
       "_view_module": "@jupyter-widgets/base",
       "_view_module_version": "1.2.0",
       "_view_name": "LayoutView",
       "align_content": null,
       "align_items": null,
       "align_self": null,
       "border": null,
       "bottom": null,
       "display": null,
       "flex": null,
       "flex_flow": null,
       "grid_area": null,
       "grid_auto_columns": null,
       "grid_auto_flow": null,
       "grid_auto_rows": null,
       "grid_column": null,
       "grid_gap": null,
       "grid_row": null,
       "grid_template_areas": null,
       "grid_template_columns": null,
       "grid_template_rows": null,
       "height": null,
       "justify_content": null,
       "justify_items": null,
       "left": null,
       "margin": null,
       "max_height": null,
       "max_width": null,
       "min_height": null,
       "min_width": null,
       "object_fit": null,
       "object_position": null,
       "order": null,
       "overflow": null,
       "overflow_x": null,
       "overflow_y": null,
       "padding": null,
       "right": null,
       "top": null,
       "visibility": null,
       "width": null
      }
     }
    },
    "version_major": 2,
    "version_minor": 0
   }
  }
 },
 "nbformat": 4,
 "nbformat_minor": 4
}
